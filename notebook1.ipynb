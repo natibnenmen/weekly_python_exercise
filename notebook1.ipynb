{
 "cells": [
  {
   "cell_type": "code",
   "execution_count": 2,
   "metadata": {},
   "outputs": [],
   "source": [
    "str=\"67.218.116.165 - - [30/Jan/2010:00:03:18 +0200] \\\"GET /robots.txt HTTP/1.0\\\" 200 99 \\\"-\\\" \\\"Mozilla/5.0 (Twiceler-0.9 http://www.cuil.com/twiceler/robot.html)\\\"\""
   ]
  },
  {
   "cell_type": "code",
   "execution_count": 2,
   "metadata": {},
   "outputs": [
    {
     "data": {
      "text/plain": [
       "'67.218.116.165 - - [30/Jan/2010:00:03:18 +0200] \"GET /robots.txt HTTP/1.0\" 200 99 \"-\" \"Mozilla/5.0 (Twiceler-0.9 http://www.cuil.com/twiceler/robot.html)\"'"
      ]
     },
     "execution_count": 2,
     "metadata": {},
     "output_type": "execute_result"
    }
   ],
   "source": [
    "str"
   ]
  },
  {
   "cell_type": "code",
   "execution_count": 3,
   "metadata": {},
   "outputs": [],
   "source": [
    "import re"
   ]
  },
  {
   "cell_type": "code",
   "execution_count": null,
   "metadata": {},
   "outputs": [],
   "source": []
  },
  {
   "cell_type": "code",
   "execution_count": 25,
   "metadata": {
    "scrolled": true
   },
   "outputs": [],
   "source": [
    " m = re.search('(\\d{1,3}\\.\\d{1,3}\\.\\d{1,3}\\.\\d{1,3}).*(\\[.*?\\])', str)"
   ]
  },
  {
   "cell_type": "code",
   "execution_count": null,
   "metadata": {},
   "outputs": [],
   "source": []
  },
  {
   "cell_type": "code",
   "execution_count": 26,
   "metadata": {},
   "outputs": [
    {
     "data": {
      "text/plain": [
       "'67.218.116.165 - - [30/Jan/2010:00:03:18 +0200]'"
      ]
     },
     "execution_count": 26,
     "metadata": {},
     "output_type": "execute_result"
    }
   ],
   "source": [
    "m.group(0)"
   ]
  },
  {
   "cell_type": "code",
   "execution_count": null,
   "metadata": {},
   "outputs": [],
   "source": []
  },
  {
   "cell_type": "code",
   "execution_count": null,
   "metadata": {},
   "outputs": [],
   "source": []
  },
  {
   "cell_type": "code",
   "execution_count": 22,
   "metadata": {},
   "outputs": [
    {
     "data": {
      "text/plain": [
       "'67.218.116.165'"
      ]
     },
     "execution_count": 22,
     "metadata": {},
     "output_type": "execute_result"
    }
   ],
   "source": [
    "m.group(1)"
   ]
  },
  {
   "cell_type": "code",
   "execution_count": null,
   "metadata": {},
   "outputs": [],
   "source": []
  },
  {
   "cell_type": "code",
   "execution_count": 27,
   "metadata": {},
   "outputs": [
    {
     "data": {
      "text/plain": [
       "'[30/Jan/2010:00:03:18 +0200]'"
      ]
     },
     "execution_count": 27,
     "metadata": {},
     "output_type": "execute_result"
    }
   ],
   "source": [
    "m.group(2)"
   ]
  },
  {
   "cell_type": "code",
   "execution_count": null,
   "metadata": {},
   "outputs": [],
   "source": []
  },
  {
   "cell_type": "code",
   "execution_count": null,
   "metadata": {},
   "outputs": [],
   "source": []
  },
  {
   "cell_type": "code",
   "execution_count": 24,
   "metadata": {},
   "outputs": [
    {
     "ename": "IndexError",
     "evalue": "no such group",
     "output_type": "error",
     "traceback": [
      "\u001b[1;31m\u001b[0m",
      "\u001b[1;31mIndexError\u001b[0mTraceback (most recent call last)",
      "\u001b[1;32m<ipython-input-24-974525c8e304>\u001b[0m in \u001b[0;36m<module>\u001b[1;34m()\u001b[0m\n\u001b[1;32m----> 1\u001b[1;33m \u001b[0mm\u001b[0m\u001b[1;33m.\u001b[0m\u001b[0mgroup\u001b[0m\u001b[1;33m(\u001b[0m\u001b[1;36m3\u001b[0m\u001b[1;33m)\u001b[0m\u001b[1;33m\u001b[0m\u001b[0m\n\u001b[0m",
      "\u001b[1;31mIndexError\u001b[0m: no such group"
     ]
    }
   ],
   "source": [
    "m.group(3)"
   ]
  },
  {
   "cell_type": "code",
   "execution_count": null,
   "metadata": {},
   "outputs": [],
   "source": []
  },
  {
   "cell_type": "code",
   "execution_count": null,
   "metadata": {},
   "outputs": [],
   "source": []
  },
  {
   "cell_type": "code",
   "execution_count": 45,
   "metadata": {},
   "outputs": [
    {
     "data": {
      "text/plain": [
       "' \"GET'"
      ]
     },
     "execution_count": 45,
     "metadata": {},
     "output_type": "execute_result"
    }
   ],
   "source": [
    "m.group(4)"
   ]
  },
  {
   "cell_type": "code",
   "execution_count": null,
   "metadata": {},
   "outputs": [],
   "source": [
    "(\\s+\\\"GET?!\\\"*\"\\\")"
   ]
  },
  {
   "cell_type": "code",
   "execution_count": null,
   "metadata": {},
   "outputs": [],
   "source": []
  },
  {
   "cell_type": "code",
   "execution_count": null,
   "metadata": {},
   "outputs": [],
   "source": []
  },
  {
   "cell_type": "code",
   "execution_count": 81,
   "metadata": {},
   "outputs": [],
   "source": [
    "str2='\"Foo Bar\" \"Another Value\" something else'"
   ]
  },
  {
   "cell_type": "code",
   "execution_count": 82,
   "metadata": {},
   "outputs": [
    {
     "data": {
      "text/plain": [
       "'\"Foo Bar\" \"Another Value\" something else'"
      ]
     },
     "execution_count": 82,
     "metadata": {},
     "output_type": "execute_result"
    }
   ],
   "source": [
    "str2"
   ]
  },
  {
   "cell_type": "code",
   "execution_count": 83,
   "metadata": {},
   "outputs": [],
   "source": [
    "m1 = re.search( '\\\"(.*?)\\\"', str2)"
   ]
  },
  {
   "cell_type": "code",
   "execution_count": 84,
   "metadata": {},
   "outputs": [
    {
     "data": {
      "text/plain": [
       "'\"Foo Bar\"'"
      ]
     },
     "execution_count": 84,
     "metadata": {},
     "output_type": "execute_result"
    }
   ],
   "source": [
    "m1.group(0)"
   ]
  },
  {
   "cell_type": "code",
   "execution_count": 85,
   "metadata": {},
   "outputs": [
    {
     "data": {
      "text/plain": [
       "'Foo Bar'"
      ]
     },
     "execution_count": 85,
     "metadata": {},
     "output_type": "execute_result"
    }
   ],
   "source": [
    "m1.group(1)"
   ]
  },
  {
   "cell_type": "code",
   "execution_count": null,
   "metadata": {},
   "outputs": [],
   "source": []
  },
  {
   "cell_type": "code",
   "execution_count": 2,
   "metadata": {},
   "outputs": [],
   "source": [
    "import turtle"
   ]
  },
  {
   "cell_type": "code",
   "execution_count": null,
   "metadata": {},
   "outputs": [],
   "source": []
  },
  {
   "cell_type": "code",
   "execution_count": 32,
   "metadata": {},
   "outputs": [
    {
     "data": {
      "text/plain": [
       "(25.00,0.00)"
      ]
     },
     "execution_count": 32,
     "metadata": {},
     "output_type": "execute_result"
    }
   ],
   "source": [
    "turtle.position()"
   ]
  },
  {
   "cell_type": "code",
   "execution_count": null,
   "metadata": {},
   "outputs": [],
   "source": []
  },
  {
   "cell_type": "code",
   "execution_count": 31,
   "metadata": {},
   "outputs": [],
   "source": [
    "turtle.forward(25)"
   ]
  },
  {
   "cell_type": "code",
   "execution_count": 33,
   "metadata": {},
   "outputs": [],
   "source": [
    "import turtle               # allows us to use the turtles library\n",
    "wn = turtle.Screen()        # creates a graphics window\n",
    "alex = turtle.Turtle()      # create a turtle named alex\n",
    "alex.forward(150)           # tell alex to move forward by 150 units\n",
    "alex.left(90)               # turn by 90 degrees\n",
    "alex.forward(75)      "
   ]
  },
  {
   "cell_type": "code",
   "execution_count": 4,
   "metadata": {},
   "outputs": [
    {
     "data": {
      "text/plain": [
       "3"
      ]
     },
     "execution_count": 4,
     "metadata": {},
     "output_type": "execute_result"
    }
   ],
   "source": [
    "turtle.speed()"
   ]
  },
  {
   "cell_type": "code",
   "execution_count": null,
   "metadata": {},
   "outputs": [],
   "source": []
  },
  {
   "cell_type": "code",
   "execution_count": 6,
   "metadata": {},
   "outputs": [
    {
     "name": "stdout",
     "output_type": "stream",
     "text": [
      "test[\"expected\"]\n"
     ]
    }
   ],
   "source": [
    "print('test[\"expected\"]')"
   ]
  },
  {
   "cell_type": "code",
   "execution_count": 7,
   "metadata": {},
   "outputs": [],
   "source": [
    "idx = 0"
   ]
  },
  {
   "cell_type": "code",
   "execution_count": 8,
   "metadata": {},
   "outputs": [
    {
     "name": "stdout",
     "output_type": "stream",
     "text": [
      "test[\"expected\"][0]: \n"
     ]
    }
   ],
   "source": [
    "print('test[\"expected\"][{0}]: '.format(idx))"
   ]
  },
  {
   "cell_type": "code",
   "execution_count": 11,
   "metadata": {},
   "outputs": [],
   "source": [
    "import json"
   ]
  },
  {
   "cell_type": "code",
   "execution_count": null,
   "metadata": {},
   "outputs": [],
   "source": []
  },
  {
   "cell_type": "code",
   "execution_count": 20,
   "metadata": {},
   "outputs": [
    {
     "data": {
      "text/plain": [
       "'expected results:\\n\"\\'a\\': 1\"'"
      ]
     },
     "execution_count": 20,
     "metadata": {},
     "output_type": "execute_result"
    }
   ],
   "source": [
    "'expected results:{0}{1}'.format(\"\\n\", json.dumps(\"'a': 1\"))"
   ]
  },
  {
   "cell_type": "code",
   "execution_count": null,
   "metadata": {},
   "outputs": [],
   "source": []
  },
  {
   "cell_type": "code",
   "execution_count": null,
   "metadata": {},
   "outputs": [],
   "source": []
  },
  {
   "cell_type": "code",
   "execution_count": null,
   "metadata": {},
   "outputs": [],
   "source": []
  },
  {
   "cell_type": "code",
   "execution_count": 17,
   "metadata": {},
   "outputs": [
    {
     "name": "stdout",
     "output_type": "stream",
     "text": [
      "aaa\n",
      "bbb\n"
     ]
    }
   ],
   "source": [
    "print(\"aaa\\nbbb\")"
   ]
  },
  {
   "cell_type": "code",
   "execution_count": 1,
   "metadata": {},
   "outputs": [],
   "source": [
    "import os "
   ]
  },
  {
   "cell_type": "code",
   "execution_count": 28,
   "metadata": {},
   "outputs": [
    {
     "name": "stdout",
     "output_type": "stream",
     "text": [
      "..\n",
      "..\\excel\n",
      "..\\excel\\.venv\n",
      "..\\excel\\.venv\\Include\n",
      "..\\excel\\.venv\\Lib\n",
      "..\\excel\\.venv\\Lib\\distutils\n",
      "..\\excel\\.venv\\Lib\\encodings\n",
      "..\\excel\\.venv\\Lib\\site-packages\n",
      "..\\excel\\.venv\\Lib\\site-packages\\dateutil\n",
      "..\\excel\\.venv\\Lib\\site-packages\\dateutil\\parser\n",
      "..\\excel\\.venv\\Lib\\site-packages\\dateutil\\tz\n",
      "..\\excel\\.venv\\Lib\\site-packages\\dateutil\\zoneinfo\n",
      "..\\excel\\.venv\\Lib\\site-packages\\et_xmlfile\n",
      "..\\excel\\.venv\\Lib\\site-packages\\et_xmlfile\\tests\n",
      "..\\excel\\.venv\\Lib\\site-packages\\et_xmlfile-1.0.1.dist-info\n",
      "..\\excel\\.venv\\Lib\\site-packages\\jdcal-1.4.dist-info\n",
      "..\\excel\\.venv\\Lib\\site-packages\\numpy\n",
      "..\\excel\\.venv\\Lib\\site-packages\\numpy\\.libs\n",
      "..\\excel\\.venv\\Lib\\site-packages\\numpy\\compat\n",
      "..\\excel\\.venv\\Lib\\site-packages\\numpy\\compat\\tests\n",
      "..\\excel\\.venv\\Lib\\site-packages\\numpy\\core\n",
      "..\\excel\\.venv\\Lib\\site-packages\\numpy\\core\\include\n",
      "..\\excel\\.venv\\Lib\\site-packages\\numpy\\core\\include\\numpy\n",
      "..\\excel\\.venv\\Lib\\site-packages\\numpy\\core\\lib\n",
      "..\\excel\\.venv\\Lib\\site-packages\\numpy\\core\\lib\\npy-pkg-config\n",
      "..\\excel\\.venv\\Lib\\site-packages\\numpy\\core\\tests\n",
      "..\\excel\\.venv\\Lib\\site-packages\\numpy\\core\\tests\\data\n",
      "..\\excel\\.venv\\Lib\\site-packages\\numpy\\distutils\n",
      "..\\excel\\.venv\\Lib\\site-packages\\numpy\\distutils\\command\n",
      "..\\excel\\.venv\\Lib\\site-packages\\numpy\\distutils\\fcompiler\n",
      "..\\excel\\.venv\\Lib\\site-packages\\numpy\\distutils\\mingw\n",
      "..\\excel\\.venv\\Lib\\site-packages\\numpy\\distutils\\tests\n",
      "..\\excel\\.venv\\Lib\\site-packages\\numpy\\doc\n",
      "..\\excel\\.venv\\Lib\\site-packages\\numpy\\f2py\n",
      "..\\excel\\.venv\\Lib\\site-packages\\numpy\\f2py\\src\n",
      "..\\excel\\.venv\\Lib\\site-packages\\numpy\\f2py\\tests\n",
      "..\\excel\\.venv\\Lib\\site-packages\\numpy\\f2py\\tests\\src\n",
      "..\\excel\\.venv\\Lib\\site-packages\\numpy\\f2py\\tests\\src\\array_from_pyobj\n",
      "..\\excel\\.venv\\Lib\\site-packages\\numpy\\f2py\\tests\\src\\assumed_shape\n",
      "..\\excel\\.venv\\Lib\\site-packages\\numpy\\f2py\\tests\\src\\common\n",
      "..\\excel\\.venv\\Lib\\site-packages\\numpy\\f2py\\tests\\src\\kind\n",
      "..\\excel\\.venv\\Lib\\site-packages\\numpy\\f2py\\tests\\src\\mixed\n",
      "..\\excel\\.venv\\Lib\\site-packages\\numpy\\f2py\\tests\\src\\parameter\n",
      "..\\excel\\.venv\\Lib\\site-packages\\numpy\\f2py\\tests\\src\\regression\n",
      "..\\excel\\.venv\\Lib\\site-packages\\numpy\\f2py\\tests\\src\\size\n",
      "..\\excel\\.venv\\Lib\\site-packages\\numpy\\f2py\\tests\\src\\string\n",
      "..\\excel\\.venv\\Lib\\site-packages\\numpy\\fft\n",
      "..\\excel\\.venv\\Lib\\site-packages\\numpy\\fft\\tests\n",
      "..\\excel\\.venv\\Lib\\site-packages\\numpy\\lib\n",
      "..\\excel\\.venv\\Lib\\site-packages\\numpy\\lib\\tests\n",
      "..\\excel\\.venv\\Lib\\site-packages\\numpy\\lib\\tests\\data\n",
      "..\\excel\\.venv\\Lib\\site-packages\\numpy\\linalg\n",
      "..\\excel\\.venv\\Lib\\site-packages\\numpy\\linalg\\tests\n",
      "..\\excel\\.venv\\Lib\\site-packages\\numpy\\ma\n",
      "..\\excel\\.venv\\Lib\\site-packages\\numpy\\ma\\tests\n",
      "..\\excel\\.venv\\Lib\\site-packages\\numpy\\matrixlib\n",
      "..\\excel\\.venv\\Lib\\site-packages\\numpy\\matrixlib\\tests\n",
      "..\\excel\\.venv\\Lib\\site-packages\\numpy\\polynomial\n",
      "..\\excel\\.venv\\Lib\\site-packages\\numpy\\polynomial\\tests\n",
      "..\\excel\\.venv\\Lib\\site-packages\\numpy\\random\n",
      "..\\excel\\.venv\\Lib\\site-packages\\numpy\\random\\tests\n",
      "..\\excel\\.venv\\Lib\\site-packages\\numpy\\testing\n",
      "..\\excel\\.venv\\Lib\\site-packages\\numpy\\testing\\tests\n",
      "..\\excel\\.venv\\Lib\\site-packages\\numpy\\testing\\_private\n",
      "..\\excel\\.venv\\Lib\\site-packages\\numpy\\tests\n",
      "..\\excel\\.venv\\Lib\\site-packages\\numpy-1.15.2.dist-info\n",
      "..\\excel\\.venv\\Lib\\site-packages\\openpyxl\n",
      "..\\excel\\.venv\\Lib\\site-packages\\openpyxl\\cell\n",
      "..\\excel\\.venv\\Lib\\site-packages\\openpyxl\\chart\n",
      "..\\excel\\.venv\\Lib\\site-packages\\openpyxl\\chartsheet\n",
      "..\\excel\\.venv\\Lib\\site-packages\\openpyxl\\comments\n",
      "..\\excel\\.venv\\Lib\\site-packages\\openpyxl\\compat\n",
      "..\\excel\\.venv\\Lib\\site-packages\\openpyxl\\descriptors\n",
      "..\\excel\\.venv\\Lib\\site-packages\\openpyxl\\drawing\n",
      "..\\excel\\.venv\\Lib\\site-packages\\openpyxl\\formatting\n",
      "..\\excel\\.venv\\Lib\\site-packages\\openpyxl\\formula\n",
      "..\\excel\\.venv\\Lib\\site-packages\\openpyxl\\packaging\n",
      "..\\excel\\.venv\\Lib\\site-packages\\openpyxl\\pivot\n",
      "..\\excel\\.venv\\Lib\\site-packages\\openpyxl\\reader\n",
      "..\\excel\\.venv\\Lib\\site-packages\\openpyxl\\styles\n",
      "..\\excel\\.venv\\Lib\\site-packages\\openpyxl\\utils\n",
      "..\\excel\\.venv\\Lib\\site-packages\\openpyxl\\workbook\n",
      "..\\excel\\.venv\\Lib\\site-packages\\openpyxl\\workbook\\external_link\n",
      "..\\excel\\.venv\\Lib\\site-packages\\openpyxl\\worksheet\n",
      "..\\excel\\.venv\\Lib\\site-packages\\openpyxl\\writer\n",
      "..\\excel\\.venv\\Lib\\site-packages\\openpyxl\\xml\n",
      "..\\excel\\.venv\\Lib\\site-packages\\openpyxl-2.5.8.dist-info\n",
      "..\\excel\\.venv\\Lib\\site-packages\\pandas\n",
      "..\\excel\\.venv\\Lib\\site-packages\\pandas\\api\n",
      "..\\excel\\.venv\\Lib\\site-packages\\pandas\\api\\extensions\n",
      "..\\excel\\.venv\\Lib\\site-packages\\pandas\\api\\types\n",
      "..\\excel\\.venv\\Lib\\site-packages\\pandas\\compat\n",
      "..\\excel\\.venv\\Lib\\site-packages\\pandas\\compat\\numpy\n",
      "..\\excel\\.venv\\Lib\\site-packages\\pandas\\computation\n",
      "..\\excel\\.venv\\Lib\\site-packages\\pandas\\core\n",
      "..\\excel\\.venv\\Lib\\site-packages\\pandas\\core\\arrays\n",
      "..\\excel\\.venv\\Lib\\site-packages\\pandas\\core\\computation\n",
      "..\\excel\\.venv\\Lib\\site-packages\\pandas\\core\\dtypes\n",
      "..\\excel\\.venv\\Lib\\site-packages\\pandas\\core\\groupby\n",
      "..\\excel\\.venv\\Lib\\site-packages\\pandas\\core\\indexes\n",
      "..\\excel\\.venv\\Lib\\site-packages\\pandas\\core\\reshape\n",
      "..\\excel\\.venv\\Lib\\site-packages\\pandas\\core\\sparse\n",
      "..\\excel\\.venv\\Lib\\site-packages\\pandas\\core\\tools\n",
      "..\\excel\\.venv\\Lib\\site-packages\\pandas\\core\\util\n",
      "..\\excel\\.venv\\Lib\\site-packages\\pandas\\errors\n",
      "..\\excel\\.venv\\Lib\\site-packages\\pandas\\formats\n",
      "..\\excel\\.venv\\Lib\\site-packages\\pandas\\io\n",
      "..\\excel\\.venv\\Lib\\site-packages\\pandas\\io\\clipboard\n",
      "..\\excel\\.venv\\Lib\\site-packages\\pandas\\io\\formats\n",
      "..\\excel\\.venv\\Lib\\site-packages\\pandas\\io\\formats\\templates\n",
      "..\\excel\\.venv\\Lib\\site-packages\\pandas\\io\\json\n",
      "..\\excel\\.venv\\Lib\\site-packages\\pandas\\io\\msgpack\n",
      "..\\excel\\.venv\\Lib\\site-packages\\pandas\\io\\sas\n",
      "..\\excel\\.venv\\Lib\\site-packages\\pandas\\plotting\n",
      "..\\excel\\.venv\\Lib\\site-packages\\pandas\\tests\n",
      "..\\excel\\.venv\\Lib\\site-packages\\pandas\\tests\\api\n",
      "..\\excel\\.venv\\Lib\\site-packages\\pandas\\tests\\categorical\n",
      "..\\excel\\.venv\\Lib\\site-packages\\pandas\\tests\\computation\n",
      "..\\excel\\.venv\\Lib\\site-packages\\pandas\\tests\\dtypes\n",
      "..\\excel\\.venv\\Lib\\site-packages\\pandas\\tests\\extension\n",
      "..\\excel\\.venv\\Lib\\site-packages\\pandas\\tests\\extension\\base\n",
      "..\\excel\\.venv\\Lib\\site-packages\\pandas\\tests\\extension\\category\n",
      "..\\excel\\.venv\\Lib\\site-packages\\pandas\\tests\\extension\\decimal\n",
      "..\\excel\\.venv\\Lib\\site-packages\\pandas\\tests\\extension\\json\n",
      "..\\excel\\.venv\\Lib\\site-packages\\pandas\\tests\\frame\n",
      "..\\excel\\.venv\\Lib\\site-packages\\pandas\\tests\\generic\n",
      "..\\excel\\.venv\\Lib\\site-packages\\pandas\\tests\\groupby\n",
      "..\\excel\\.venv\\Lib\\site-packages\\pandas\\tests\\groupby\\aggregate\n",
      "..\\excel\\.venv\\Lib\\site-packages\\pandas\\tests\\indexes\n",
      "..\\excel\\.venv\\Lib\\site-packages\\pandas\\tests\\indexes\\datetimes\n",
      "..\\excel\\.venv\\Lib\\site-packages\\pandas\\tests\\indexes\\interval\n",
      "..\\excel\\.venv\\Lib\\site-packages\\pandas\\tests\\indexes\\period\n",
      "..\\excel\\.venv\\Lib\\site-packages\\pandas\\tests\\indexes\\timedeltas\n",
      "..\\excel\\.venv\\Lib\\site-packages\\pandas\\tests\\indexing\n",
      "..\\excel\\.venv\\Lib\\site-packages\\pandas\\tests\\indexing\\interval\n",
      "..\\excel\\.venv\\Lib\\site-packages\\pandas\\tests\\internals\n",
      "..\\excel\\.venv\\Lib\\site-packages\\pandas\\tests\\io\n",
      "..\\excel\\.venv\\Lib\\site-packages\\pandas\\tests\\io\\formats\n",
      "..\\excel\\.venv\\Lib\\site-packages\\pandas\\tests\\io\\json\n",
      "..\\excel\\.venv\\Lib\\site-packages\\pandas\\tests\\io\\msgpack\n",
      "..\\excel\\.venv\\Lib\\site-packages\\pandas\\tests\\io\\parser\n",
      "..\\excel\\.venv\\Lib\\site-packages\\pandas\\tests\\io\\sas\n",
      "..\\excel\\.venv\\Lib\\site-packages\\pandas\\tests\\plotting\n",
      "..\\excel\\.venv\\Lib\\site-packages\\pandas\\tests\\reshape\n",
      "..\\excel\\.venv\\Lib\\site-packages\\pandas\\tests\\reshape\\merge\n",
      "..\\excel\\.venv\\Lib\\site-packages\\pandas\\tests\\scalar\n",
      "..\\excel\\.venv\\Lib\\site-packages\\pandas\\tests\\scalar\\interval\n",
      "..\\excel\\.venv\\Lib\\site-packages\\pandas\\tests\\scalar\\period\n",
      "..\\excel\\.venv\\Lib\\site-packages\\pandas\\tests\\scalar\\timedelta\n",
      "..\\excel\\.venv\\Lib\\site-packages\\pandas\\tests\\scalar\\timestamp\n",
      "..\\excel\\.venv\\Lib\\site-packages\\pandas\\tests\\series\n",
      "..\\excel\\.venv\\Lib\\site-packages\\pandas\\tests\\series\\indexing\n",
      "..\\excel\\.venv\\Lib\\site-packages\\pandas\\tests\\sparse\n",
      "..\\excel\\.venv\\Lib\\site-packages\\pandas\\tests\\sparse\\frame\n",
      "..\\excel\\.venv\\Lib\\site-packages\\pandas\\tests\\sparse\\series\n",
      "..\\excel\\.venv\\Lib\\site-packages\\pandas\\tests\\tools\n",
      "..\\excel\\.venv\\Lib\\site-packages\\pandas\\tests\\tseries\n",
      "..\\excel\\.venv\\Lib\\site-packages\\pandas\\tests\\tseries\\offsets\n",
      "..\\excel\\.venv\\Lib\\site-packages\\pandas\\tests\\tslibs\n",
      "..\\excel\\.venv\\Lib\\site-packages\\pandas\\tests\\util\n",
      "..\\excel\\.venv\\Lib\\site-packages\\pandas\\tools\n",
      "..\\excel\\.venv\\Lib\\site-packages\\pandas\\tseries\n",
      "..\\excel\\.venv\\Lib\\site-packages\\pandas\\types\n",
      "..\\excel\\.venv\\Lib\\site-packages\\pandas\\util\n",
      "..\\excel\\.venv\\Lib\\site-packages\\pandas\\_libs\n",
      "..\\excel\\.venv\\Lib\\site-packages\\pandas\\_libs\\tslibs\n",
      "..\\excel\\.venv\\Lib\\site-packages\\pandas-0.23.4.dist-info\n",
      "..\\excel\\.venv\\Lib\\site-packages\\pip\n",
      "..\\excel\\.venv\\Lib\\site-packages\\pip\\_internal\n",
      "..\\excel\\.venv\\Lib\\site-packages\\pip\\_internal\\cli\n",
      "..\\excel\\.venv\\Lib\\site-packages\\pip\\_internal\\commands\n",
      "..\\excel\\.venv\\Lib\\site-packages\\pip\\_internal\\models\n"
     ]
    },
    {
     "name": "stdout",
     "output_type": "stream",
     "text": [
      "..\\excel\\.venv\\Lib\\site-packages\\pip\\_internal\\operations\n",
      "..\\excel\\.venv\\Lib\\site-packages\\pip\\_internal\\req\n",
      "..\\excel\\.venv\\Lib\\site-packages\\pip\\_internal\\utils\n",
      "..\\excel\\.venv\\Lib\\site-packages\\pip\\_internal\\vcs\n",
      "..\\excel\\.venv\\Lib\\site-packages\\pip\\_vendor\n",
      "..\\excel\\.venv\\Lib\\site-packages\\pip\\_vendor\\cachecontrol\n",
      "..\\excel\\.venv\\Lib\\site-packages\\pip\\_vendor\\cachecontrol\\caches\n",
      "..\\excel\\.venv\\Lib\\site-packages\\pip\\_vendor\\certifi\n",
      "..\\excel\\.venv\\Lib\\site-packages\\pip\\_vendor\\chardet\n",
      "..\\excel\\.venv\\Lib\\site-packages\\pip\\_vendor\\chardet\\cli\n",
      "..\\excel\\.venv\\Lib\\site-packages\\pip\\_vendor\\colorama\n",
      "..\\excel\\.venv\\Lib\\site-packages\\pip\\_vendor\\distlib\n",
      "..\\excel\\.venv\\Lib\\site-packages\\pip\\_vendor\\distlib\\_backport\n",
      "..\\excel\\.venv\\Lib\\site-packages\\pip\\_vendor\\html5lib\n",
      "..\\excel\\.venv\\Lib\\site-packages\\pip\\_vendor\\html5lib\\filters\n",
      "..\\excel\\.venv\\Lib\\site-packages\\pip\\_vendor\\html5lib\\treeadapters\n",
      "..\\excel\\.venv\\Lib\\site-packages\\pip\\_vendor\\html5lib\\treebuilders\n",
      "..\\excel\\.venv\\Lib\\site-packages\\pip\\_vendor\\html5lib\\treewalkers\n",
      "..\\excel\\.venv\\Lib\\site-packages\\pip\\_vendor\\html5lib\\_trie\n",
      "..\\excel\\.venv\\Lib\\site-packages\\pip\\_vendor\\idna\n",
      "..\\excel\\.venv\\Lib\\site-packages\\pip\\_vendor\\lockfile\n",
      "..\\excel\\.venv\\Lib\\site-packages\\pip\\_vendor\\msgpack\n",
      "..\\excel\\.venv\\Lib\\site-packages\\pip\\_vendor\\packaging\n",
      "..\\excel\\.venv\\Lib\\site-packages\\pip\\_vendor\\pep517\n",
      "..\\excel\\.venv\\Lib\\site-packages\\pip\\_vendor\\pkg_resources\n",
      "..\\excel\\.venv\\Lib\\site-packages\\pip\\_vendor\\progress\n",
      "..\\excel\\.venv\\Lib\\site-packages\\pip\\_vendor\\pytoml\n",
      "..\\excel\\.venv\\Lib\\site-packages\\pip\\_vendor\\requests\n",
      "..\\excel\\.venv\\Lib\\site-packages\\pip\\_vendor\\urllib3\n",
      "..\\excel\\.venv\\Lib\\site-packages\\pip\\_vendor\\urllib3\\contrib\n",
      "..\\excel\\.venv\\Lib\\site-packages\\pip\\_vendor\\urllib3\\contrib\\_securetransport\n",
      "..\\excel\\.venv\\Lib\\site-packages\\pip\\_vendor\\urllib3\\packages\n",
      "..\\excel\\.venv\\Lib\\site-packages\\pip\\_vendor\\urllib3\\packages\\backports\n",
      "..\\excel\\.venv\\Lib\\site-packages\\pip\\_vendor\\urllib3\\packages\\ssl_match_hostname\n",
      "..\\excel\\.venv\\Lib\\site-packages\\pip\\_vendor\\urllib3\\util\n",
      "..\\excel\\.venv\\Lib\\site-packages\\pip\\_vendor\\webencodings\n",
      "..\\excel\\.venv\\Lib\\site-packages\\pip-18.1.dist-info\n",
      "..\\excel\\.venv\\Lib\\site-packages\\pkg_resources\n",
      "..\\excel\\.venv\\Lib\\site-packages\\pkg_resources\\extern\n",
      "..\\excel\\.venv\\Lib\\site-packages\\pkg_resources\\_vendor\n",
      "..\\excel\\.venv\\Lib\\site-packages\\pkg_resources\\_vendor\\packaging\n",
      "..\\excel\\.venv\\Lib\\site-packages\\python_dateutil-2.7.3.dist-info\n",
      "..\\excel\\.venv\\Lib\\site-packages\\pytz\n",
      "..\\excel\\.venv\\Lib\\site-packages\\pytz\\zoneinfo\n",
      "..\\excel\\.venv\\Lib\\site-packages\\pytz\\zoneinfo\\Africa\n",
      "..\\excel\\.venv\\Lib\\site-packages\\pytz\\zoneinfo\\America\n",
      "..\\excel\\.venv\\Lib\\site-packages\\pytz\\zoneinfo\\America\\Argentina\n",
      "..\\excel\\.venv\\Lib\\site-packages\\pytz\\zoneinfo\\America\\Indiana\n",
      "..\\excel\\.venv\\Lib\\site-packages\\pytz\\zoneinfo\\America\\Kentucky\n",
      "..\\excel\\.venv\\Lib\\site-packages\\pytz\\zoneinfo\\America\\North_Dakota\n",
      "..\\excel\\.venv\\Lib\\site-packages\\pytz\\zoneinfo\\Antarctica\n",
      "..\\excel\\.venv\\Lib\\site-packages\\pytz\\zoneinfo\\Arctic\n",
      "..\\excel\\.venv\\Lib\\site-packages\\pytz\\zoneinfo\\Asia\n",
      "..\\excel\\.venv\\Lib\\site-packages\\pytz\\zoneinfo\\Atlantic\n",
      "..\\excel\\.venv\\Lib\\site-packages\\pytz\\zoneinfo\\Australia\n",
      "..\\excel\\.venv\\Lib\\site-packages\\pytz\\zoneinfo\\Brazil\n",
      "..\\excel\\.venv\\Lib\\site-packages\\pytz\\zoneinfo\\Canada\n",
      "..\\excel\\.venv\\Lib\\site-packages\\pytz\\zoneinfo\\Chile\n",
      "..\\excel\\.venv\\Lib\\site-packages\\pytz\\zoneinfo\\Etc\n",
      "..\\excel\\.venv\\Lib\\site-packages\\pytz\\zoneinfo\\Europe\n",
      "..\\excel\\.venv\\Lib\\site-packages\\pytz\\zoneinfo\\Indian\n",
      "..\\excel\\.venv\\Lib\\site-packages\\pytz\\zoneinfo\\Mexico\n",
      "..\\excel\\.venv\\Lib\\site-packages\\pytz\\zoneinfo\\Pacific\n",
      "..\\excel\\.venv\\Lib\\site-packages\\pytz\\zoneinfo\\US\n",
      "..\\excel\\.venv\\Lib\\site-packages\\pytz-2018.5.dist-info\n",
      "..\\excel\\.venv\\Lib\\site-packages\\setuptools\n",
      "..\\excel\\.venv\\Lib\\site-packages\\setuptools\\command\n",
      "..\\excel\\.venv\\Lib\\site-packages\\setuptools\\extern\n",
      "..\\excel\\.venv\\Lib\\site-packages\\setuptools\\_vendor\n",
      "..\\excel\\.venv\\Lib\\site-packages\\setuptools\\_vendor\\packaging\n",
      "..\\excel\\.venv\\Lib\\site-packages\\setuptools-40.4.3.dist-info\n",
      "..\\excel\\.venv\\Lib\\site-packages\\six-1.11.0.dist-info\n",
      "..\\excel\\.venv\\Lib\\site-packages\\wheel\n",
      "..\\excel\\.venv\\Lib\\site-packages\\wheel\\cli\n",
      "..\\excel\\.venv\\Lib\\site-packages\\wheel-0.32.1.dist-info\n",
      "..\\excel\\.venv\\Scripts\n",
      "..\\excel\\.venv\\tcl\n",
      "..\\excel\\.venv\\tcl\\tcl8.5\n",
      "..\\excel\\.venv\\tcl\\tcl8.5\\encoding\n",
      "..\\excel\\.venv\\tcl\\tcl8.5\\http1.0\n",
      "..\\excel\\.venv\\tcl\\tcl8.5\\msgs\n",
      "..\\excel\\.venv\\tcl\\tk8.5\n",
      "..\\excel\\.venv\\tcl\\tk8.5\\demos\n",
      "..\\excel\\.venv\\tcl\\tk8.5\\demos\\images\n",
      "..\\excel\\.venv\\tcl\\tk8.5\\images\n",
      "..\\excel\\.venv\\tcl\\tk8.5\\msgs\n",
      "..\\excel\\.venv\\tcl\\tk8.5\\ttk\n",
      "..\\monitoring\n",
      "..\\monitoring\\.cache\n",
      "..\\monitoring\\.cache\\v\n",
      "..\\monitoring\\.cache\\v\\cache\n",
      "..\\monitoring\\.idea\n",
      "..\\monitoring\\__pycache__\n",
      "..\\turtle\n",
      "..\\turtle\\.git\n",
      "..\\turtle\\.git\\hooks\n",
      "..\\turtle\\.git\\info\n",
      "..\\turtle\\.git\\logs\n",
      "..\\turtle\\.git\\logs\\refs\n",
      "..\\turtle\\.git\\logs\\refs\\heads\n",
      "..\\turtle\\.git\\logs\\refs\\remotes\n",
      "..\\turtle\\.git\\logs\\refs\\remotes\\origin\n",
      "..\\turtle\\.git\\objects\n",
      "..\\turtle\\.git\\objects\\4d\n",
      "..\\turtle\\.git\\objects\\b4\n",
      "..\\turtle\\.git\\objects\\da\n",
      "..\\turtle\\.git\\objects\\info\n",
      "..\\turtle\\.git\\objects\\pack\n",
      "..\\turtle\\.git\\refs\n",
      "..\\turtle\\.git\\refs\\heads\n",
      "..\\turtle\\.git\\refs\\remotes\n",
      "..\\turtle\\.git\\refs\\remotes\\origin\n",
      "..\\turtle\\.git\\refs\\tags\n",
      "..\\weekly_python_exercise\n",
      "..\\weekly_python_exercise\\.git\n",
      "..\\weekly_python_exercise\\.git\\hooks\n",
      "..\\weekly_python_exercise\\.git\\info\n",
      "..\\weekly_python_exercise\\.git\\logs\n",
      "..\\weekly_python_exercise\\.git\\logs\\refs\n",
      "..\\weekly_python_exercise\\.git\\logs\\refs\\heads\n",
      "..\\weekly_python_exercise\\.git\\logs\\refs\\remotes\n",
      "..\\weekly_python_exercise\\.git\\logs\\refs\\remotes\\origin\n",
      "..\\weekly_python_exercise\\.git\\objects\n",
      "..\\weekly_python_exercise\\.git\\objects\\01\n",
      "..\\weekly_python_exercise\\.git\\objects\\03\n",
      "..\\weekly_python_exercise\\.git\\objects\\0b\n",
      "..\\weekly_python_exercise\\.git\\objects\\10\n",
      "..\\weekly_python_exercise\\.git\\objects\\13\n",
      "..\\weekly_python_exercise\\.git\\objects\\14\n",
      "..\\weekly_python_exercise\\.git\\objects\\1f\n",
      "..\\weekly_python_exercise\\.git\\objects\\2f\n",
      "..\\weekly_python_exercise\\.git\\objects\\3c\n",
      "..\\weekly_python_exercise\\.git\\objects\\3d\n",
      "..\\weekly_python_exercise\\.git\\objects\\41\n",
      "..\\weekly_python_exercise\\.git\\objects\\43\n",
      "..\\weekly_python_exercise\\.git\\objects\\45\n",
      "..\\weekly_python_exercise\\.git\\objects\\4c\n",
      "..\\weekly_python_exercise\\.git\\objects\\55\n",
      "..\\weekly_python_exercise\\.git\\objects\\56\n",
      "..\\weekly_python_exercise\\.git\\objects\\5b\n",
      "..\\weekly_python_exercise\\.git\\objects\\66\n",
      "..\\weekly_python_exercise\\.git\\objects\\69\n",
      "..\\weekly_python_exercise\\.git\\objects\\6a\n",
      "..\\weekly_python_exercise\\.git\\objects\\72\n",
      "..\\weekly_python_exercise\\.git\\objects\\80\n",
      "..\\weekly_python_exercise\\.git\\objects\\8c\n",
      "..\\weekly_python_exercise\\.git\\objects\\97\n",
      "..\\weekly_python_exercise\\.git\\objects\\a3\n",
      "..\\weekly_python_exercise\\.git\\objects\\a9\n",
      "..\\weekly_python_exercise\\.git\\objects\\d0\n",
      "..\\weekly_python_exercise\\.git\\objects\\d6\n",
      "..\\weekly_python_exercise\\.git\\objects\\d7\n",
      "..\\weekly_python_exercise\\.git\\objects\\da\n",
      "..\\weekly_python_exercise\\.git\\objects\\db\n",
      "..\\weekly_python_exercise\\.git\\objects\\dd\n",
      "..\\weekly_python_exercise\\.git\\objects\\e9\n",
      "..\\weekly_python_exercise\\.git\\objects\\ec\n",
      "..\\weekly_python_exercise\\.git\\objects\\ef\n",
      "..\\weekly_python_exercise\\.git\\objects\\f2\n",
      "..\\weekly_python_exercise\\.git\\objects\\info\n",
      "..\\weekly_python_exercise\\.git\\objects\\pack\n",
      "..\\weekly_python_exercise\\.git\\refs\n",
      "..\\weekly_python_exercise\\.git\\refs\\heads\n",
      "..\\weekly_python_exercise\\.git\\refs\\remotes\n",
      "..\\weekly_python_exercise\\.git\\refs\\remotes\\origin\n",
      "..\\weekly_python_exercise\\.git\\refs\\tags\n",
      "..\\weekly_python_exercise\\.ipynb_checkpoints\n",
      "..\\weekly_python_exercise\\.pytest_cache\n",
      "..\\weekly_python_exercise\\.pytest_cache\\v\n",
      "..\\weekly_python_exercise\\.pytest_cache\\v\\cache\n",
      "..\\weekly_python_exercise\\.venv-top\n",
      "..\\weekly_python_exercise\\.venv-top\\Include\n",
      "..\\weekly_python_exercise\\.venv-top\\Lib\n",
      "..\\weekly_python_exercise\\.venv-top\\Lib\\distutils\n",
      "..\\weekly_python_exercise\\.venv-top\\Lib\\encodings\n",
      "..\\weekly_python_exercise\\.venv-top\\Lib\\site-packages\n",
      "..\\weekly_python_exercise\\.venv-top\\Lib\\site-packages\\atomicwrites\n",
      "..\\weekly_python_exercise\\.venv-top\\Lib\\site-packages\\atomicwrites-1.2.1.dist-info\n",
      "..\\weekly_python_exercise\\.venv-top\\Lib\\site-packages\\attr\n",
      "..\\weekly_python_exercise\\.venv-top\\Lib\\site-packages\\attrs-18.2.0.dist-info\n",
      "..\\weekly_python_exercise\\.venv-top\\Lib\\site-packages\\certifi\n",
      "..\\weekly_python_exercise\\.venv-top\\Lib\\site-packages\\certifi-2018.10.15.dist-info\n",
      "..\\weekly_python_exercise\\.venv-top\\Lib\\site-packages\\chardet\n",
      "..\\weekly_python_exercise\\.venv-top\\Lib\\site-packages\\chardet\\cli\n",
      "..\\weekly_python_exercise\\.venv-top\\Lib\\site-packages\\chardet-3.0.4.dist-info\n",
      "..\\weekly_python_exercise\\.venv-top\\Lib\\site-packages\\colorama\n",
      "..\\weekly_python_exercise\\.venv-top\\Lib\\site-packages\\colorama-0.4.0.dist-info\n",
      "..\\weekly_python_exercise\\.venv-top\\Lib\\site-packages\\docutils\n",
      "..\\weekly_python_exercise\\.venv-top\\Lib\\site-packages\\docutils\\languages\n",
      "..\\weekly_python_exercise\\.venv-top\\Lib\\site-packages\\docutils\\parsers\n",
      "..\\weekly_python_exercise\\.venv-top\\Lib\\site-packages\\docutils\\parsers\\rst\n"
     ]
    },
    {
     "name": "stdout",
     "output_type": "stream",
     "text": [
      "..\\weekly_python_exercise\\.venv-top\\Lib\\site-packages\\docutils\\parsers\\rst\\directives\n",
      "..\\weekly_python_exercise\\.venv-top\\Lib\\site-packages\\docutils\\parsers\\rst\\include\n",
      "..\\weekly_python_exercise\\.venv-top\\Lib\\site-packages\\docutils\\parsers\\rst\\languages\n",
      "..\\weekly_python_exercise\\.venv-top\\Lib\\site-packages\\docutils\\readers\n",
      "..\\weekly_python_exercise\\.venv-top\\Lib\\site-packages\\docutils\\transforms\n",
      "..\\weekly_python_exercise\\.venv-top\\Lib\\site-packages\\docutils\\utils\n",
      "..\\weekly_python_exercise\\.venv-top\\Lib\\site-packages\\docutils\\utils\\math\n",
      "..\\weekly_python_exercise\\.venv-top\\Lib\\site-packages\\docutils\\writers\n",
      "..\\weekly_python_exercise\\.venv-top\\Lib\\site-packages\\docutils\\writers\\html4css1\n",
      "..\\weekly_python_exercise\\.venv-top\\Lib\\site-packages\\docutils\\writers\\html5_polyglot\n",
      "..\\weekly_python_exercise\\.venv-top\\Lib\\site-packages\\docutils\\writers\\latex2e\n",
      "..\\weekly_python_exercise\\.venv-top\\Lib\\site-packages\\docutils\\writers\\odf_odt\n",
      "..\\weekly_python_exercise\\.venv-top\\Lib\\site-packages\\docutils\\writers\\pep_html\n",
      "..\\weekly_python_exercise\\.venv-top\\Lib\\site-packages\\docutils\\writers\\s5_html\n",
      "..\\weekly_python_exercise\\.venv-top\\Lib\\site-packages\\docutils\\writers\\s5_html\\themes\n",
      "..\\weekly_python_exercise\\.venv-top\\Lib\\site-packages\\docutils\\writers\\s5_html\\themes\\big-black\n",
      "..\\weekly_python_exercise\\.venv-top\\Lib\\site-packages\\docutils\\writers\\s5_html\\themes\\big-white\n",
      "..\\weekly_python_exercise\\.venv-top\\Lib\\site-packages\\docutils\\writers\\s5_html\\themes\\default\n",
      "..\\weekly_python_exercise\\.venv-top\\Lib\\site-packages\\docutils\\writers\\s5_html\\themes\\medium-black\n",
      "..\\weekly_python_exercise\\.venv-top\\Lib\\site-packages\\docutils\\writers\\s5_html\\themes\\medium-white\n",
      "..\\weekly_python_exercise\\.venv-top\\Lib\\site-packages\\docutils\\writers\\s5_html\\themes\\small-black\n",
      "..\\weekly_python_exercise\\.venv-top\\Lib\\site-packages\\docutils\\writers\\s5_html\\themes\\small-white\n",
      "..\\weekly_python_exercise\\.venv-top\\Lib\\site-packages\\docutils\\writers\\xetex\n",
      "..\\weekly_python_exercise\\.venv-top\\Lib\\site-packages\\docutils-0.14.dist-info\n",
      "..\\weekly_python_exercise\\.venv-top\\Lib\\site-packages\\funcsigs\n",
      "..\\weekly_python_exercise\\.venv-top\\Lib\\site-packages\\funcsigs-1.0.2.dist-info\n",
      "..\\weekly_python_exercise\\.venv-top\\Lib\\site-packages\\idna\n",
      "..\\weekly_python_exercise\\.venv-top\\Lib\\site-packages\\idna-2.7.dist-info\n",
      "..\\weekly_python_exercise\\.venv-top\\Lib\\site-packages\\more_itertools\n",
      "..\\weekly_python_exercise\\.venv-top\\Lib\\site-packages\\more_itertools\\tests\n",
      "..\\weekly_python_exercise\\.venv-top\\Lib\\site-packages\\more_itertools-4.3.0.dist-info\n",
      "..\\weekly_python_exercise\\.venv-top\\Lib\\site-packages\\pathlib2\n",
      "..\\weekly_python_exercise\\.venv-top\\Lib\\site-packages\\pathlib2-2.3.2.dist-info\n",
      "..\\weekly_python_exercise\\.venv-top\\Lib\\site-packages\\pip\n",
      "..\\weekly_python_exercise\\.venv-top\\Lib\\site-packages\\pip\\_internal\n",
      "..\\weekly_python_exercise\\.venv-top\\Lib\\site-packages\\pip\\_internal\\cli\n",
      "..\\weekly_python_exercise\\.venv-top\\Lib\\site-packages\\pip\\_internal\\commands\n",
      "..\\weekly_python_exercise\\.venv-top\\Lib\\site-packages\\pip\\_internal\\models\n",
      "..\\weekly_python_exercise\\.venv-top\\Lib\\site-packages\\pip\\_internal\\operations\n",
      "..\\weekly_python_exercise\\.venv-top\\Lib\\site-packages\\pip\\_internal\\req\n",
      "..\\weekly_python_exercise\\.venv-top\\Lib\\site-packages\\pip\\_internal\\utils\n",
      "..\\weekly_python_exercise\\.venv-top\\Lib\\site-packages\\pip\\_internal\\vcs\n",
      "..\\weekly_python_exercise\\.venv-top\\Lib\\site-packages\\pip\\_vendor\n",
      "..\\weekly_python_exercise\\.venv-top\\Lib\\site-packages\\pip\\_vendor\\cachecontrol\n",
      "..\\weekly_python_exercise\\.venv-top\\Lib\\site-packages\\pip\\_vendor\\cachecontrol\\caches\n",
      "..\\weekly_python_exercise\\.venv-top\\Lib\\site-packages\\pip\\_vendor\\certifi\n",
      "..\\weekly_python_exercise\\.venv-top\\Lib\\site-packages\\pip\\_vendor\\chardet\n",
      "..\\weekly_python_exercise\\.venv-top\\Lib\\site-packages\\pip\\_vendor\\chardet\\cli\n",
      "..\\weekly_python_exercise\\.venv-top\\Lib\\site-packages\\pip\\_vendor\\colorama\n",
      "..\\weekly_python_exercise\\.venv-top\\Lib\\site-packages\\pip\\_vendor\\distlib\n",
      "..\\weekly_python_exercise\\.venv-top\\Lib\\site-packages\\pip\\_vendor\\distlib\\_backport\n",
      "..\\weekly_python_exercise\\.venv-top\\Lib\\site-packages\\pip\\_vendor\\html5lib\n",
      "..\\weekly_python_exercise\\.venv-top\\Lib\\site-packages\\pip\\_vendor\\html5lib\\filters\n",
      "..\\weekly_python_exercise\\.venv-top\\Lib\\site-packages\\pip\\_vendor\\html5lib\\treeadapters\n",
      "..\\weekly_python_exercise\\.venv-top\\Lib\\site-packages\\pip\\_vendor\\html5lib\\treebuilders\n",
      "..\\weekly_python_exercise\\.venv-top\\Lib\\site-packages\\pip\\_vendor\\html5lib\\treewalkers\n",
      "..\\weekly_python_exercise\\.venv-top\\Lib\\site-packages\\pip\\_vendor\\html5lib\\_trie\n",
      "..\\weekly_python_exercise\\.venv-top\\Lib\\site-packages\\pip\\_vendor\\idna\n",
      "..\\weekly_python_exercise\\.venv-top\\Lib\\site-packages\\pip\\_vendor\\lockfile\n",
      "..\\weekly_python_exercise\\.venv-top\\Lib\\site-packages\\pip\\_vendor\\msgpack\n",
      "..\\weekly_python_exercise\\.venv-top\\Lib\\site-packages\\pip\\_vendor\\packaging\n",
      "..\\weekly_python_exercise\\.venv-top\\Lib\\site-packages\\pip\\_vendor\\pep517\n",
      "..\\weekly_python_exercise\\.venv-top\\Lib\\site-packages\\pip\\_vendor\\pkg_resources\n",
      "..\\weekly_python_exercise\\.venv-top\\Lib\\site-packages\\pip\\_vendor\\progress\n",
      "..\\weekly_python_exercise\\.venv-top\\Lib\\site-packages\\pip\\_vendor\\pytoml\n",
      "..\\weekly_python_exercise\\.venv-top\\Lib\\site-packages\\pip\\_vendor\\requests\n",
      "..\\weekly_python_exercise\\.venv-top\\Lib\\site-packages\\pip\\_vendor\\urllib3\n",
      "..\\weekly_python_exercise\\.venv-top\\Lib\\site-packages\\pip\\_vendor\\urllib3\\contrib\n",
      "..\\weekly_python_exercise\\.venv-top\\Lib\\site-packages\\pip\\_vendor\\urllib3\\contrib\\_securetransport\n",
      "..\\weekly_python_exercise\\.venv-top\\Lib\\site-packages\\pip\\_vendor\\urllib3\\packages\n",
      "..\\weekly_python_exercise\\.venv-top\\Lib\\site-packages\\pip\\_vendor\\urllib3\\packages\\backports\n",
      "..\\weekly_python_exercise\\.venv-top\\Lib\\site-packages\\pip\\_vendor\\urllib3\\packages\\ssl_match_hostname\n",
      "..\\weekly_python_exercise\\.venv-top\\Lib\\site-packages\\pip\\_vendor\\urllib3\\util\n",
      "..\\weekly_python_exercise\\.venv-top\\Lib\\site-packages\\pip\\_vendor\\webencodings\n",
      "..\\weekly_python_exercise\\.venv-top\\Lib\\site-packages\\pip-18.1.dist-info\n",
      "..\\weekly_python_exercise\\.venv-top\\Lib\\site-packages\\pkg_resources\n",
      "..\\weekly_python_exercise\\.venv-top\\Lib\\site-packages\\pkg_resources\\extern\n",
      "..\\weekly_python_exercise\\.venv-top\\Lib\\site-packages\\pkg_resources\\_vendor\n",
      "..\\weekly_python_exercise\\.venv-top\\Lib\\site-packages\\pkg_resources\\_vendor\\packaging\n",
      "..\\weekly_python_exercise\\.venv-top\\Lib\\site-packages\\pluggy\n",
      "..\\weekly_python_exercise\\.venv-top\\Lib\\site-packages\\pluggy-0.8.0.dist-info\n",
      "..\\weekly_python_exercise\\.venv-top\\Lib\\site-packages\\py\n",
      "..\\weekly_python_exercise\\.venv-top\\Lib\\site-packages\\py\\_code\n",
      "..\\weekly_python_exercise\\.venv-top\\Lib\\site-packages\\py\\_io\n",
      "..\\weekly_python_exercise\\.venv-top\\Lib\\site-packages\\py\\_log\n",
      "..\\weekly_python_exercise\\.venv-top\\Lib\\site-packages\\py\\_path\n",
      "..\\weekly_python_exercise\\.venv-top\\Lib\\site-packages\\py\\_process\n",
      "..\\weekly_python_exercise\\.venv-top\\Lib\\site-packages\\py\\_vendored_packages\n",
      "..\\weekly_python_exercise\\.venv-top\\Lib\\site-packages\\py-1.7.0.dist-info\n",
      "..\\weekly_python_exercise\\.venv-top\\Lib\\site-packages\\pytest-3.9.2.dist-info\n",
      "..\\weekly_python_exercise\\.venv-top\\Lib\\site-packages\\requests\n",
      "..\\weekly_python_exercise\\.venv-top\\Lib\\site-packages\\requests-2.20.0.dist-info\n",
      "..\\weekly_python_exercise\\.venv-top\\Lib\\site-packages\\scandir-1.9.0.dist-info\n",
      "..\\weekly_python_exercise\\.venv-top\\Lib\\site-packages\\setuptools\n",
      "..\\weekly_python_exercise\\.venv-top\\Lib\\site-packages\\setuptools\\command\n",
      "..\\weekly_python_exercise\\.venv-top\\Lib\\site-packages\\setuptools\\extern\n",
      "..\\weekly_python_exercise\\.venv-top\\Lib\\site-packages\\setuptools\\_vendor\n",
      "..\\weekly_python_exercise\\.venv-top\\Lib\\site-packages\\setuptools\\_vendor\\packaging\n",
      "..\\weekly_python_exercise\\.venv-top\\Lib\\site-packages\\setuptools-40.4.3.dist-info\n",
      "..\\weekly_python_exercise\\.venv-top\\Lib\\site-packages\\six-1.11.0.dist-info\n",
      "..\\weekly_python_exercise\\.venv-top\\Lib\\site-packages\\statistics\n",
      "..\\weekly_python_exercise\\.venv-top\\Lib\\site-packages\\statistics-1.0.3.5.dist-info\n",
      "..\\weekly_python_exercise\\.venv-top\\Lib\\site-packages\\urllib3\n",
      "..\\weekly_python_exercise\\.venv-top\\Lib\\site-packages\\urllib3\\contrib\n",
      "..\\weekly_python_exercise\\.venv-top\\Lib\\site-packages\\urllib3\\contrib\\_securetransport\n",
      "..\\weekly_python_exercise\\.venv-top\\Lib\\site-packages\\urllib3\\packages\n",
      "..\\weekly_python_exercise\\.venv-top\\Lib\\site-packages\\urllib3\\packages\\backports\n",
      "..\\weekly_python_exercise\\.venv-top\\Lib\\site-packages\\urllib3\\packages\\ssl_match_hostname\n",
      "..\\weekly_python_exercise\\.venv-top\\Lib\\site-packages\\urllib3\\util\n",
      "..\\weekly_python_exercise\\.venv-top\\Lib\\site-packages\\urllib3-1.24.dist-info\n",
      "..\\weekly_python_exercise\\.venv-top\\Lib\\site-packages\\wheel\n",
      "..\\weekly_python_exercise\\.venv-top\\Lib\\site-packages\\wheel\\cli\n",
      "..\\weekly_python_exercise\\.venv-top\\Lib\\site-packages\\wheel-0.32.2.dist-info\n"
     ]
    },
    {
     "name": "stdout",
     "output_type": "stream",
     "text": [
      "..\\weekly_python_exercise\\.venv-top\\Lib\\site-packages\\_pytest\n",
      "..\\weekly_python_exercise\\.venv-top\\Lib\\site-packages\\_pytest\\assertion\n",
      "..\\weekly_python_exercise\\.venv-top\\Lib\\site-packages\\_pytest\\config\n",
      "..\\weekly_python_exercise\\.venv-top\\Lib\\site-packages\\_pytest\\mark\n",
      "..\\weekly_python_exercise\\.venv-top\\Lib\\site-packages\\_pytest\\_code\n",
      "..\\weekly_python_exercise\\.venv-top\\Scripts\n",
      "..\\weekly_python_exercise\\.venv-top\\tcl\n",
      "..\\weekly_python_exercise\\.venv-top\\tcl\\tcl8.5\n",
      "..\\weekly_python_exercise\\.venv-top\\tcl\\tcl8.5\\encoding\n",
      "..\\weekly_python_exercise\\.venv-top\\tcl\\tcl8.5\\http1.0\n",
      "..\\weekly_python_exercise\\.venv-top\\tcl\\tcl8.5\\msgs\n",
      "..\\weekly_python_exercise\\.venv-top\\tcl\\tcl8.5\\opt0.4\n",
      "..\\weekly_python_exercise\\.venv-top\\tcl\\tcl8.5\\tzdata\n",
      "..\\weekly_python_exercise\\.venv-top\\tcl\\tcl8.5\\tzdata\\Africa\n",
      "..\\weekly_python_exercise\\.venv-top\\tcl\\tcl8.5\\tzdata\\America\n",
      "..\\weekly_python_exercise\\.venv-top\\tcl\\tcl8.5\\tzdata\\America\\Argentina\n",
      "..\\weekly_python_exercise\\.venv-top\\tcl\\tcl8.5\\tzdata\\America\\Indiana\n",
      "..\\weekly_python_exercise\\.venv-top\\tcl\\tcl8.5\\tzdata\\America\\Kentucky\n",
      "..\\weekly_python_exercise\\.venv-top\\tcl\\tcl8.5\\tzdata\\America\\North_Dakota\n",
      "..\\weekly_python_exercise\\.venv-top\\tcl\\tcl8.5\\tzdata\\Antarctica\n",
      "..\\weekly_python_exercise\\.venv-top\\tcl\\tcl8.5\\tzdata\\Arctic\n",
      "..\\weekly_python_exercise\\.venv-top\\tcl\\tcl8.5\\tzdata\\Asia\n",
      "..\\weekly_python_exercise\\.venv-top\\tcl\\tcl8.5\\tzdata\\Atlantic\n",
      "..\\weekly_python_exercise\\.venv-top\\tcl\\tcl8.5\\tzdata\\Australia\n",
      "..\\weekly_python_exercise\\.venv-top\\tcl\\tcl8.5\\tzdata\\Brazil\n",
      "..\\weekly_python_exercise\\.venv-top\\tcl\\tcl8.5\\tzdata\\Canada\n",
      "..\\weekly_python_exercise\\.venv-top\\tcl\\tcl8.5\\tzdata\\Chile\n",
      "..\\weekly_python_exercise\\.venv-top\\tcl\\tcl8.5\\tzdata\\Etc\n",
      "..\\weekly_python_exercise\\.venv-top\\tcl\\tcl8.5\\tzdata\\Europe\n",
      "..\\weekly_python_exercise\\.venv-top\\tcl\\tcl8.5\\tzdata\\Indian\n",
      "..\\weekly_python_exercise\\.venv-top\\tcl\\tcl8.5\\tzdata\\Mexico\n",
      "..\\weekly_python_exercise\\.venv-top\\tcl\\tcl8.5\\tzdata\\Pacific\n",
      "..\\weekly_python_exercise\\.venv-top\\tcl\\tcl8.5\\tzdata\\SystemV\n",
      "..\\weekly_python_exercise\\.venv-top\\tcl\\tcl8.5\\tzdata\\US\n",
      "..\\weekly_python_exercise\\.venv-top\\tcl\\tk8.5\n",
      "..\\weekly_python_exercise\\.venv-top\\tcl\\tk8.5\\demos\n",
      "..\\weekly_python_exercise\\.venv-top\\tcl\\tk8.5\\demos\\images\n",
      "..\\weekly_python_exercise\\.venv-top\\tcl\\tk8.5\\images\n",
      "..\\weekly_python_exercise\\.venv-top\\tcl\\tk8.5\\msgs\n",
      "..\\weekly_python_exercise\\.venv-top\\tcl\\tk8.5\\ttk\n",
      "..\\weekly_python_exercise\\exercise_01\n",
      "..\\weekly_python_exercise\\exercise_01\\.idea\n",
      "..\\weekly_python_exercise\\exercise_01\\.pytest_cache\n",
      "..\\weekly_python_exercise\\exercise_01\\.pytest_cache\\v\n",
      "..\\weekly_python_exercise\\exercise_01\\.pytest_cache\\v\\cache\n",
      "..\\weekly_python_exercise\\exercise_01\\.venv\n",
      "..\\weekly_python_exercise\\exercise_01\\.venv\\Include\n",
      "..\\weekly_python_exercise\\exercise_01\\.venv\\Lib\n",
      "..\\weekly_python_exercise\\exercise_01\\.venv\\Lib\\distutils\n",
      "..\\weekly_python_exercise\\exercise_01\\.venv\\Lib\\encodings\n",
      "..\\weekly_python_exercise\\exercise_01\\.venv\\Lib\\site-packages\n",
      "..\\weekly_python_exercise\\exercise_01\\.venv\\Lib\\site-packages\\atomicwrites\n",
      "..\\weekly_python_exercise\\exercise_01\\.venv\\Lib\\site-packages\\atomicwrites-1.2.1.dist-info\n",
      "..\\weekly_python_exercise\\exercise_01\\.venv\\Lib\\site-packages\\attr\n",
      "..\\weekly_python_exercise\\exercise_01\\.venv\\Lib\\site-packages\\attrs-18.2.0.dist-info\n",
      "..\\weekly_python_exercise\\exercise_01\\.venv\\Lib\\site-packages\\colorama\n",
      "..\\weekly_python_exercise\\exercise_01\\.venv\\Lib\\site-packages\\colorama-0.3.9.dist-info\n",
      "..\\weekly_python_exercise\\exercise_01\\.venv\\Lib\\site-packages\\funcsigs\n",
      "..\\weekly_python_exercise\\exercise_01\\.venv\\Lib\\site-packages\\funcsigs-1.0.2.dist-info\n",
      "..\\weekly_python_exercise\\exercise_01\\.venv\\Lib\\site-packages\\more_itertools\n",
      "..\\weekly_python_exercise\\exercise_01\\.venv\\Lib\\site-packages\\more_itertools\\tests\n",
      "..\\weekly_python_exercise\\exercise_01\\.venv\\Lib\\site-packages\\more_itertools-4.3.0.dist-info\n",
      "..\\weekly_python_exercise\\exercise_01\\.venv\\Lib\\site-packages\\pathlib2\n",
      "..\\weekly_python_exercise\\exercise_01\\.venv\\Lib\\site-packages\\pathlib2-2.3.2.dist-info\n",
      "..\\weekly_python_exercise\\exercise_01\\.venv\\Lib\\site-packages\\pip\n",
      "..\\weekly_python_exercise\\exercise_01\\.venv\\Lib\\site-packages\\pip\\_internal\n",
      "..\\weekly_python_exercise\\exercise_01\\.venv\\Lib\\site-packages\\pip\\_internal\\commands\n",
      "..\\weekly_python_exercise\\exercise_01\\.venv\\Lib\\site-packages\\pip\\_internal\\models\n",
      "..\\weekly_python_exercise\\exercise_01\\.venv\\Lib\\site-packages\\pip\\_internal\\operations\n",
      "..\\weekly_python_exercise\\exercise_01\\.venv\\Lib\\site-packages\\pip\\_internal\\req\n",
      "..\\weekly_python_exercise\\exercise_01\\.venv\\Lib\\site-packages\\pip\\_internal\\utils\n",
      "..\\weekly_python_exercise\\exercise_01\\.venv\\Lib\\site-packages\\pip\\_internal\\vcs\n",
      "..\\weekly_python_exercise\\exercise_01\\.venv\\Lib\\site-packages\\pip\\_vendor\n",
      "..\\weekly_python_exercise\\exercise_01\\.venv\\Lib\\site-packages\\pip\\_vendor\\cachecontrol\n",
      "..\\weekly_python_exercise\\exercise_01\\.venv\\Lib\\site-packages\\pip\\_vendor\\cachecontrol\\caches\n",
      "..\\weekly_python_exercise\\exercise_01\\.venv\\Lib\\site-packages\\pip\\_vendor\\certifi\n",
      "..\\weekly_python_exercise\\exercise_01\\.venv\\Lib\\site-packages\\pip\\_vendor\\chardet\n",
      "..\\weekly_python_exercise\\exercise_01\\.venv\\Lib\\site-packages\\pip\\_vendor\\chardet\\cli\n",
      "..\\weekly_python_exercise\\exercise_01\\.venv\\Lib\\site-packages\\pip\\_vendor\\colorama\n",
      "..\\weekly_python_exercise\\exercise_01\\.venv\\Lib\\site-packages\\pip\\_vendor\\distlib\n",
      "..\\weekly_python_exercise\\exercise_01\\.venv\\Lib\\site-packages\\pip\\_vendor\\distlib\\_backport\n",
      "..\\weekly_python_exercise\\exercise_01\\.venv\\Lib\\site-packages\\pip\\_vendor\\html5lib\n",
      "..\\weekly_python_exercise\\exercise_01\\.venv\\Lib\\site-packages\\pip\\_vendor\\html5lib\\filters\n",
      "..\\weekly_python_exercise\\exercise_01\\.venv\\Lib\\site-packages\\pip\\_vendor\\html5lib\\treeadapters\n",
      "..\\weekly_python_exercise\\exercise_01\\.venv\\Lib\\site-packages\\pip\\_vendor\\html5lib\\treebuilders\n",
      "..\\weekly_python_exercise\\exercise_01\\.venv\\Lib\\site-packages\\pip\\_vendor\\html5lib\\treewalkers\n",
      "..\\weekly_python_exercise\\exercise_01\\.venv\\Lib\\site-packages\\pip\\_vendor\\html5lib\\_trie\n",
      "..\\weekly_python_exercise\\exercise_01\\.venv\\Lib\\site-packages\\pip\\_vendor\\idna\n",
      "..\\weekly_python_exercise\\exercise_01\\.venv\\Lib\\site-packages\\pip\\_vendor\\lockfile\n",
      "..\\weekly_python_exercise\\exercise_01\\.venv\\Lib\\site-packages\\pip\\_vendor\\msgpack\n",
      "..\\weekly_python_exercise\\exercise_01\\.venv\\Lib\\site-packages\\pip\\_vendor\\packaging\n",
      "..\\weekly_python_exercise\\exercise_01\\.venv\\Lib\\site-packages\\pip\\_vendor\\pkg_resources\n",
      "..\\weekly_python_exercise\\exercise_01\\.venv\\Lib\\site-packages\\pip\\_vendor\\progress\n",
      "..\\weekly_python_exercise\\exercise_01\\.venv\\Lib\\site-packages\\pip\\_vendor\\pytoml\n",
      "..\\weekly_python_exercise\\exercise_01\\.venv\\Lib\\site-packages\\pip\\_vendor\\requests\n",
      "..\\weekly_python_exercise\\exercise_01\\.venv\\Lib\\site-packages\\pip\\_vendor\\urllib3\n",
      "..\\weekly_python_exercise\\exercise_01\\.venv\\Lib\\site-packages\\pip\\_vendor\\urllib3\\contrib\n",
      "..\\weekly_python_exercise\\exercise_01\\.venv\\Lib\\site-packages\\pip\\_vendor\\urllib3\\contrib\\_securetransport\n",
      "..\\weekly_python_exercise\\exercise_01\\.venv\\Lib\\site-packages\\pip\\_vendor\\urllib3\\packages\n",
      "..\\weekly_python_exercise\\exercise_01\\.venv\\Lib\\site-packages\\pip\\_vendor\\urllib3\\packages\\backports\n",
      "..\\weekly_python_exercise\\exercise_01\\.venv\\Lib\\site-packages\\pip\\_vendor\\urllib3\\packages\\ssl_match_hostname\n",
      "..\\weekly_python_exercise\\exercise_01\\.venv\\Lib\\site-packages\\pip\\_vendor\\urllib3\\util\n",
      "..\\weekly_python_exercise\\exercise_01\\.venv\\Lib\\site-packages\\pip\\_vendor\\webencodings\n",
      "..\\weekly_python_exercise\\exercise_01\\.venv\\Lib\\site-packages\\pip-18.0.dist-info\n",
      "..\\weekly_python_exercise\\exercise_01\\.venv\\Lib\\site-packages\\pkg_resources\n",
      "..\\weekly_python_exercise\\exercise_01\\.venv\\Lib\\site-packages\\pkg_resources\\extern\n",
      "..\\weekly_python_exercise\\exercise_01\\.venv\\Lib\\site-packages\\pkg_resources\\_vendor\n",
      "..\\weekly_python_exercise\\exercise_01\\.venv\\Lib\\site-packages\\pkg_resources\\_vendor\\packaging\n",
      "..\\weekly_python_exercise\\exercise_01\\.venv\\Lib\\site-packages\\pluggy\n",
      "..\\weekly_python_exercise\\exercise_01\\.venv\\Lib\\site-packages\\pluggy-0.7.1.dist-info\n",
      "..\\weekly_python_exercise\\exercise_01\\.venv\\Lib\\site-packages\\py\n",
      "..\\weekly_python_exercise\\exercise_01\\.venv\\Lib\\site-packages\\py\\_code\n",
      "..\\weekly_python_exercise\\exercise_01\\.venv\\Lib\\site-packages\\py\\_io\n",
      "..\\weekly_python_exercise\\exercise_01\\.venv\\Lib\\site-packages\\py\\_log\n",
      "..\\weekly_python_exercise\\exercise_01\\.venv\\Lib\\site-packages\\py\\_path\n",
      "..\\weekly_python_exercise\\exercise_01\\.venv\\Lib\\site-packages\\py\\_process\n",
      "..\\weekly_python_exercise\\exercise_01\\.venv\\Lib\\site-packages\\py\\_vendored_packages\n",
      "..\\weekly_python_exercise\\exercise_01\\.venv\\Lib\\site-packages\\py-1.6.0.dist-info\n",
      "..\\weekly_python_exercise\\exercise_01\\.venv\\Lib\\site-packages\\pytest-3.8.2.dist-info\n",
      "..\\weekly_python_exercise\\exercise_01\\.venv\\Lib\\site-packages\\scandir-1.9.0.dist-info\n",
      "..\\weekly_python_exercise\\exercise_01\\.venv\\Lib\\site-packages\\setuptools\n",
      "..\\weekly_python_exercise\\exercise_01\\.venv\\Lib\\site-packages\\setuptools\\command\n",
      "..\\weekly_python_exercise\\exercise_01\\.venv\\Lib\\site-packages\\setuptools\\extern\n",
      "..\\weekly_python_exercise\\exercise_01\\.venv\\Lib\\site-packages\\setuptools\\_vendor\n",
      "..\\weekly_python_exercise\\exercise_01\\.venv\\Lib\\site-packages\\setuptools\\_vendor\\packaging\n",
      "..\\weekly_python_exercise\\exercise_01\\.venv\\Lib\\site-packages\\setuptools-40.4.3.dist-info\n",
      "..\\weekly_python_exercise\\exercise_01\\.venv\\Lib\\site-packages\\six-1.11.0.dist-info\n",
      "..\\weekly_python_exercise\\exercise_01\\.venv\\Lib\\site-packages\\wheel\n",
      "..\\weekly_python_exercise\\exercise_01\\.venv\\Lib\\site-packages\\wheel\\cli\n",
      "..\\weekly_python_exercise\\exercise_01\\.venv\\Lib\\site-packages\\wheel-0.32.1.dist-info\n",
      "..\\weekly_python_exercise\\exercise_01\\.venv\\Lib\\site-packages\\_pytest\n",
      "..\\weekly_python_exercise\\exercise_01\\.venv\\Lib\\site-packages\\_pytest\\assertion\n",
      "..\\weekly_python_exercise\\exercise_01\\.venv\\Lib\\site-packages\\_pytest\\config\n",
      "..\\weekly_python_exercise\\exercise_01\\.venv\\Lib\\site-packages\\_pytest\\mark\n",
      "..\\weekly_python_exercise\\exercise_01\\.venv\\Lib\\site-packages\\_pytest\\_code\n",
      "..\\weekly_python_exercise\\exercise_01\\.venv\\Scripts\n",
      "..\\weekly_python_exercise\\exercise_01\\.venv\\tcl\n",
      "..\\weekly_python_exercise\\exercise_01\\.venv\\tcl\\tcl8.5\n",
      "..\\weekly_python_exercise\\exercise_01\\.venv\\tcl\\tcl8.5\\encoding\n",
      "..\\weekly_python_exercise\\exercise_01\\.venv\\tcl\\tcl8.5\\http1.0\n"
     ]
    },
    {
     "name": "stdout",
     "output_type": "stream",
     "text": [
      "..\\weekly_python_exercise\\exercise_01\\.venv\\tcl\\tcl8.5\\msgs\n",
      "..\\weekly_python_exercise\\exercise_01\\.venv\\tcl\\tcl8.5\\opt0.4\n",
      "..\\weekly_python_exercise\\exercise_01\\.venv\\tcl\\tcl8.5\\tzdata\n",
      "..\\weekly_python_exercise\\exercise_01\\.venv\\tcl\\tcl8.5\\tzdata\\Africa\n",
      "..\\weekly_python_exercise\\exercise_01\\.venv\\tcl\\tcl8.5\\tzdata\\America\n",
      "..\\weekly_python_exercise\\exercise_01\\.venv\\tcl\\tcl8.5\\tzdata\\America\\Argentina\n",
      "..\\weekly_python_exercise\\exercise_01\\.venv\\tcl\\tcl8.5\\tzdata\\America\\Indiana\n",
      "..\\weekly_python_exercise\\exercise_01\\.venv\\tcl\\tcl8.5\\tzdata\\America\\Kentucky\n",
      "..\\weekly_python_exercise\\exercise_01\\.venv\\tcl\\tcl8.5\\tzdata\\America\\North_Dakota\n",
      "..\\weekly_python_exercise\\exercise_01\\.venv\\tcl\\tcl8.5\\tzdata\\Antarctica\n",
      "..\\weekly_python_exercise\\exercise_01\\.venv\\tcl\\tcl8.5\\tzdata\\Arctic\n",
      "..\\weekly_python_exercise\\exercise_01\\.venv\\tcl\\tcl8.5\\tzdata\\Asia\n",
      "..\\weekly_python_exercise\\exercise_01\\.venv\\tcl\\tcl8.5\\tzdata\\Atlantic\n",
      "..\\weekly_python_exercise\\exercise_01\\.venv\\tcl\\tcl8.5\\tzdata\\Australia\n",
      "..\\weekly_python_exercise\\exercise_01\\.venv\\tcl\\tcl8.5\\tzdata\\Brazil\n",
      "..\\weekly_python_exercise\\exercise_01\\.venv\\tcl\\tcl8.5\\tzdata\\Canada\n",
      "..\\weekly_python_exercise\\exercise_01\\.venv\\tcl\\tcl8.5\\tzdata\\Chile\n",
      "..\\weekly_python_exercise\\exercise_01\\.venv\\tcl\\tcl8.5\\tzdata\\Etc\n",
      "..\\weekly_python_exercise\\exercise_01\\.venv\\tcl\\tcl8.5\\tzdata\\Europe\n",
      "..\\weekly_python_exercise\\exercise_01\\.venv\\tcl\\tcl8.5\\tzdata\\Indian\n",
      "..\\weekly_python_exercise\\exercise_01\\.venv\\tcl\\tcl8.5\\tzdata\\Mexico\n",
      "..\\weekly_python_exercise\\exercise_01\\.venv\\tcl\\tcl8.5\\tzdata\\Pacific\n",
      "..\\weekly_python_exercise\\exercise_01\\.venv\\tcl\\tcl8.5\\tzdata\\SystemV\n",
      "..\\weekly_python_exercise\\exercise_01\\.venv\\tcl\\tcl8.5\\tzdata\\US\n",
      "..\\weekly_python_exercise\\exercise_01\\.venv\\tcl\\tk8.5\n",
      "..\\weekly_python_exercise\\exercise_01\\.venv\\tcl\\tk8.5\\demos\n",
      "..\\weekly_python_exercise\\exercise_01\\.venv\\tcl\\tk8.5\\demos\\images\n",
      "..\\weekly_python_exercise\\exercise_01\\.venv\\tcl\\tk8.5\\images\n",
      "..\\weekly_python_exercise\\exercise_01\\.venv\\tcl\\tk8.5\\msgs\n",
      "..\\weekly_python_exercise\\exercise_01\\.venv\\tcl\\tk8.5\\ttk\n",
      "..\\weekly_python_exercise\\exercise_01\\__pycache__\n",
      "..\\weekly_python_exercise\\exercise_02_myrange\n",
      "..\\weekly_python_exercise\\exercise_02_myrange\\.idea\n",
      "..\\weekly_python_exercise\\exercise_02_myrange\\.pytest_cache\n",
      "..\\weekly_python_exercise\\exercise_02_myrange\\.pytest_cache\\v\n",
      "..\\weekly_python_exercise\\exercise_02_myrange\\.pytest_cache\\v\\cache\n",
      "..\\weekly_python_exercise\\exercise_02_myrange\\.venv\n",
      "..\\weekly_python_exercise\\exercise_02_myrange\\.venv\\Include\n",
      "..\\weekly_python_exercise\\exercise_02_myrange\\.venv\\Lib\n",
      "..\\weekly_python_exercise\\exercise_02_myrange\\.venv\\Lib\\distutils\n",
      "..\\weekly_python_exercise\\exercise_02_myrange\\.venv\\Lib\\encodings\n",
      "..\\weekly_python_exercise\\exercise_02_myrange\\.venv\\Lib\\site-packages\n",
      "..\\weekly_python_exercise\\exercise_02_myrange\\.venv\\Lib\\site-packages\\pip\n",
      "..\\weekly_python_exercise\\exercise_02_myrange\\.venv\\Lib\\site-packages\\pip\\_internal\n",
      "..\\weekly_python_exercise\\exercise_02_myrange\\.venv\\Lib\\site-packages\\pip\\_internal\\commands\n",
      "..\\weekly_python_exercise\\exercise_02_myrange\\.venv\\Lib\\site-packages\\pip\\_internal\\models\n",
      "..\\weekly_python_exercise\\exercise_02_myrange\\.venv\\Lib\\site-packages\\pip\\_internal\\operations\n",
      "..\\weekly_python_exercise\\exercise_02_myrange\\.venv\\Lib\\site-packages\\pip\\_internal\\req\n",
      "..\\weekly_python_exercise\\exercise_02_myrange\\.venv\\Lib\\site-packages\\pip\\_internal\\utils\n",
      "..\\weekly_python_exercise\\exercise_02_myrange\\.venv\\Lib\\site-packages\\pip\\_internal\\vcs\n",
      "..\\weekly_python_exercise\\exercise_02_myrange\\.venv\\Lib\\site-packages\\pip\\_vendor\n",
      "..\\weekly_python_exercise\\exercise_02_myrange\\.venv\\Lib\\site-packages\\pip\\_vendor\\cachecontrol\n",
      "..\\weekly_python_exercise\\exercise_02_myrange\\.venv\\Lib\\site-packages\\pip\\_vendor\\cachecontrol\\caches\n",
      "..\\weekly_python_exercise\\exercise_02_myrange\\.venv\\Lib\\site-packages\\pip\\_vendor\\certifi\n",
      "..\\weekly_python_exercise\\exercise_02_myrange\\.venv\\Lib\\site-packages\\pip\\_vendor\\chardet\n",
      "..\\weekly_python_exercise\\exercise_02_myrange\\.venv\\Lib\\site-packages\\pip\\_vendor\\chardet\\cli\n",
      "..\\weekly_python_exercise\\exercise_02_myrange\\.venv\\Lib\\site-packages\\pip\\_vendor\\colorama\n",
      "..\\weekly_python_exercise\\exercise_02_myrange\\.venv\\Lib\\site-packages\\pip\\_vendor\\distlib\n",
      "..\\weekly_python_exercise\\exercise_02_myrange\\.venv\\Lib\\site-packages\\pip\\_vendor\\distlib\\_backport\n",
      "..\\weekly_python_exercise\\exercise_02_myrange\\.venv\\Lib\\site-packages\\pip\\_vendor\\html5lib\n",
      "..\\weekly_python_exercise\\exercise_02_myrange\\.venv\\Lib\\site-packages\\pip\\_vendor\\html5lib\\filters\n",
      "..\\weekly_python_exercise\\exercise_02_myrange\\.venv\\Lib\\site-packages\\pip\\_vendor\\html5lib\\treeadapters\n",
      "..\\weekly_python_exercise\\exercise_02_myrange\\.venv\\Lib\\site-packages\\pip\\_vendor\\html5lib\\treebuilders\n",
      "..\\weekly_python_exercise\\exercise_02_myrange\\.venv\\Lib\\site-packages\\pip\\_vendor\\html5lib\\treewalkers\n",
      "..\\weekly_python_exercise\\exercise_02_myrange\\.venv\\Lib\\site-packages\\pip\\_vendor\\html5lib\\_trie\n",
      "..\\weekly_python_exercise\\exercise_02_myrange\\.venv\\Lib\\site-packages\\pip\\_vendor\\idna\n",
      "..\\weekly_python_exercise\\exercise_02_myrange\\.venv\\Lib\\site-packages\\pip\\_vendor\\lockfile\n",
      "..\\weekly_python_exercise\\exercise_02_myrange\\.venv\\Lib\\site-packages\\pip\\_vendor\\msgpack\n",
      "..\\weekly_python_exercise\\exercise_02_myrange\\.venv\\Lib\\site-packages\\pip\\_vendor\\packaging\n",
      "..\\weekly_python_exercise\\exercise_02_myrange\\.venv\\Lib\\site-packages\\pip\\_vendor\\pkg_resources\n",
      "..\\weekly_python_exercise\\exercise_02_myrange\\.venv\\Lib\\site-packages\\pip\\_vendor\\progress\n",
      "..\\weekly_python_exercise\\exercise_02_myrange\\.venv\\Lib\\site-packages\\pip\\_vendor\\pytoml\n",
      "..\\weekly_python_exercise\\exercise_02_myrange\\.venv\\Lib\\site-packages\\pip\\_vendor\\requests\n",
      "..\\weekly_python_exercise\\exercise_02_myrange\\.venv\\Lib\\site-packages\\pip\\_vendor\\urllib3\n",
      "..\\weekly_python_exercise\\exercise_02_myrange\\.venv\\Lib\\site-packages\\pip\\_vendor\\urllib3\\contrib\n",
      "..\\weekly_python_exercise\\exercise_02_myrange\\.venv\\Lib\\site-packages\\pip\\_vendor\\urllib3\\contrib\\_securetransport\n",
      "..\\weekly_python_exercise\\exercise_02_myrange\\.venv\\Lib\\site-packages\\pip\\_vendor\\urllib3\\packages\n",
      "..\\weekly_python_exercise\\exercise_02_myrange\\.venv\\Lib\\site-packages\\pip\\_vendor\\urllib3\\packages\\backports\n",
      "..\\weekly_python_exercise\\exercise_02_myrange\\.venv\\Lib\\site-packages\\pip\\_vendor\\urllib3\\packages\\ssl_match_hostname\n",
      "..\\weekly_python_exercise\\exercise_02_myrange\\.venv\\Lib\\site-packages\\pip\\_vendor\\urllib3\\util\n",
      "..\\weekly_python_exercise\\exercise_02_myrange\\.venv\\Lib\\site-packages\\pip\\_vendor\\webencodings\n",
      "..\\weekly_python_exercise\\exercise_02_myrange\\.venv\\Lib\\site-packages\\pip-10.0.1.dist-info\n",
      "..\\weekly_python_exercise\\exercise_02_myrange\\.venv\\Lib\\site-packages\\pkg_resources\n",
      "..\\weekly_python_exercise\\exercise_02_myrange\\.venv\\Lib\\site-packages\\pkg_resources\\extern\n",
      "..\\weekly_python_exercise\\exercise_02_myrange\\.venv\\Lib\\site-packages\\pkg_resources\\_vendor\n",
      "..\\weekly_python_exercise\\exercise_02_myrange\\.venv\\Lib\\site-packages\\pkg_resources\\_vendor\\packaging\n",
      "..\\weekly_python_exercise\\exercise_02_myrange\\.venv\\Lib\\site-packages\\setuptools\n",
      "..\\weekly_python_exercise\\exercise_02_myrange\\.venv\\Lib\\site-packages\\setuptools\\command\n",
      "..\\weekly_python_exercise\\exercise_02_myrange\\.venv\\Lib\\site-packages\\setuptools\\extern\n",
      "..\\weekly_python_exercise\\exercise_02_myrange\\.venv\\Lib\\site-packages\\setuptools\\_vendor\n",
      "..\\weekly_python_exercise\\exercise_02_myrange\\.venv\\Lib\\site-packages\\setuptools\\_vendor\\packaging\n",
      "..\\weekly_python_exercise\\exercise_02_myrange\\.venv\\Lib\\site-packages\\setuptools-39.1.0.dist-info\n",
      "..\\weekly_python_exercise\\exercise_02_myrange\\.venv\\Lib\\site-packages\\wheel\n",
      "..\\weekly_python_exercise\\exercise_02_myrange\\.venv\\Lib\\site-packages\\wheel\\signatures\n",
      "..\\weekly_python_exercise\\exercise_02_myrange\\.venv\\Lib\\site-packages\\wheel\\tool\n",
      "..\\weekly_python_exercise\\exercise_02_myrange\\.venv\\Lib\\site-packages\\wheel-0.31.1.dist-info\n",
      "..\\weekly_python_exercise\\exercise_02_myrange\\.venv\\Scripts\n",
      "..\\weekly_python_exercise\\exercise_02_myrange\\.venv\\tcl\n",
      "..\\weekly_python_exercise\\exercise_02_myrange\\.venv\\tcl\\tcl8.5\n",
      "..\\weekly_python_exercise\\exercise_02_myrange\\.venv\\tcl\\tcl8.5\\encoding\n",
      "..\\weekly_python_exercise\\exercise_02_myrange\\.venv\\tcl\\tcl8.5\\http1.0\n",
      "..\\weekly_python_exercise\\exercise_02_myrange\\.venv\\tcl\\tcl8.5\\msgs\n",
      "..\\weekly_python_exercise\\exercise_02_myrange\\.venv\\tcl\\tcl8.5\\opt0.4\n",
      "..\\weekly_python_exercise\\exercise_02_myrange\\.venv\\tcl\\tcl8.5\\tzdata\n",
      "..\\weekly_python_exercise\\exercise_02_myrange\\.venv\\tcl\\tcl8.5\\tzdata\\Africa\n",
      "..\\weekly_python_exercise\\exercise_02_myrange\\.venv\\tcl\\tcl8.5\\tzdata\\America\n",
      "..\\weekly_python_exercise\\exercise_02_myrange\\.venv\\tcl\\tcl8.5\\tzdata\\America\\Argentina\n",
      "..\\weekly_python_exercise\\exercise_02_myrange\\.venv\\tcl\\tcl8.5\\tzdata\\America\\Indiana\n",
      "..\\weekly_python_exercise\\exercise_02_myrange\\.venv\\tcl\\tcl8.5\\tzdata\\America\\Kentucky\n",
      "..\\weekly_python_exercise\\exercise_02_myrange\\.venv\\tcl\\tcl8.5\\tzdata\\America\\North_Dakota\n",
      "..\\weekly_python_exercise\\exercise_02_myrange\\.venv\\tcl\\tcl8.5\\tzdata\\Antarctica\n",
      "..\\weekly_python_exercise\\exercise_02_myrange\\.venv\\tcl\\tcl8.5\\tzdata\\Arctic\n",
      "..\\weekly_python_exercise\\exercise_02_myrange\\.venv\\tcl\\tcl8.5\\tzdata\\Asia\n",
      "..\\weekly_python_exercise\\exercise_02_myrange\\.venv\\tcl\\tcl8.5\\tzdata\\Atlantic\n",
      "..\\weekly_python_exercise\\exercise_02_myrange\\.venv\\tcl\\tcl8.5\\tzdata\\Australia\n",
      "..\\weekly_python_exercise\\exercise_02_myrange\\.venv\\tcl\\tcl8.5\\tzdata\\Brazil\n",
      "..\\weekly_python_exercise\\exercise_02_myrange\\.venv\\tcl\\tcl8.5\\tzdata\\Canada\n",
      "..\\weekly_python_exercise\\exercise_02_myrange\\.venv\\tcl\\tcl8.5\\tzdata\\Chile\n",
      "..\\weekly_python_exercise\\exercise_02_myrange\\.venv\\tcl\\tcl8.5\\tzdata\\Etc\n",
      "..\\weekly_python_exercise\\exercise_02_myrange\\.venv\\tcl\\tcl8.5\\tzdata\\Europe\n",
      "..\\weekly_python_exercise\\exercise_02_myrange\\.venv\\tcl\\tcl8.5\\tzdata\\Indian\n",
      "..\\weekly_python_exercise\\exercise_02_myrange\\.venv\\tcl\\tcl8.5\\tzdata\\Mexico\n",
      "..\\weekly_python_exercise\\exercise_02_myrange\\.venv\\tcl\\tcl8.5\\tzdata\\Pacific\n",
      "..\\weekly_python_exercise\\exercise_02_myrange\\.venv\\tcl\\tcl8.5\\tzdata\\SystemV\n",
      "..\\weekly_python_exercise\\exercise_02_myrange\\.venv\\tcl\\tcl8.5\\tzdata\\US\n",
      "..\\weekly_python_exercise\\exercise_02_myrange\\.venv\\tcl\\tk8.5\n",
      "..\\weekly_python_exercise\\exercise_02_myrange\\.venv\\tcl\\tk8.5\\demos\n",
      "..\\weekly_python_exercise\\exercise_02_myrange\\.venv\\tcl\\tk8.5\\demos\\images\n",
      "..\\weekly_python_exercise\\exercise_02_myrange\\.venv\\tcl\\tk8.5\\images\n",
      "..\\weekly_python_exercise\\exercise_02_myrange\\.venv\\tcl\\tk8.5\\msgs\n"
     ]
    },
    {
     "name": "stdout",
     "output_type": "stream",
     "text": [
      "..\\weekly_python_exercise\\exercise_02_myrange\\.venv\\tcl\\tk8.5\\ttk\n",
      "..\\weekly_python_exercise\\exercise_03_loglist\n",
      "..\\weekly_python_exercise\\exercise_03_loglist\\.idea\n",
      "..\\weekly_python_exercise\\exercise_03_loglist\\.ipynb_checkpoints\n",
      "..\\weekly_python_exercise\\exercise_03_loglist\\.pytest_cache\n",
      "..\\weekly_python_exercise\\exercise_03_loglist\\.pytest_cache\\v\n",
      "..\\weekly_python_exercise\\exercise_03_loglist\\.pytest_cache\\v\\cache\n",
      "..\\weekly_python_exercise\\exercise_03_loglist\\.venv\n",
      "..\\weekly_python_exercise\\exercise_03_loglist\\.venv\\Include\n",
      "..\\weekly_python_exercise\\exercise_03_loglist\\.venv\\Lib\n",
      "..\\weekly_python_exercise\\exercise_03_loglist\\.venv\\Lib\\distutils\n",
      "..\\weekly_python_exercise\\exercise_03_loglist\\.venv\\Lib\\encodings\n",
      "..\\weekly_python_exercise\\exercise_03_loglist\\.venv\\Lib\\site-packages\n",
      "..\\weekly_python_exercise\\exercise_03_loglist\\.venv\\Lib\\site-packages\\pip\n",
      "..\\weekly_python_exercise\\exercise_03_loglist\\.venv\\Lib\\site-packages\\pip\\_internal\n",
      "..\\weekly_python_exercise\\exercise_03_loglist\\.venv\\Lib\\site-packages\\pip\\_internal\\commands\n",
      "..\\weekly_python_exercise\\exercise_03_loglist\\.venv\\Lib\\site-packages\\pip\\_internal\\models\n",
      "..\\weekly_python_exercise\\exercise_03_loglist\\.venv\\Lib\\site-packages\\pip\\_internal\\operations\n",
      "..\\weekly_python_exercise\\exercise_03_loglist\\.venv\\Lib\\site-packages\\pip\\_internal\\req\n",
      "..\\weekly_python_exercise\\exercise_03_loglist\\.venv\\Lib\\site-packages\\pip\\_internal\\utils\n",
      "..\\weekly_python_exercise\\exercise_03_loglist\\.venv\\Lib\\site-packages\\pip\\_internal\\vcs\n",
      "..\\weekly_python_exercise\\exercise_03_loglist\\.venv\\Lib\\site-packages\\pip\\_vendor\n",
      "..\\weekly_python_exercise\\exercise_03_loglist\\.venv\\Lib\\site-packages\\pip\\_vendor\\cachecontrol\n",
      "..\\weekly_python_exercise\\exercise_03_loglist\\.venv\\Lib\\site-packages\\pip\\_vendor\\cachecontrol\\caches\n",
      "..\\weekly_python_exercise\\exercise_03_loglist\\.venv\\Lib\\site-packages\\pip\\_vendor\\certifi\n",
      "..\\weekly_python_exercise\\exercise_03_loglist\\.venv\\Lib\\site-packages\\pip\\_vendor\\chardet\n",
      "..\\weekly_python_exercise\\exercise_03_loglist\\.venv\\Lib\\site-packages\\pip\\_vendor\\chardet\\cli\n",
      "..\\weekly_python_exercise\\exercise_03_loglist\\.venv\\Lib\\site-packages\\pip\\_vendor\\colorama\n",
      "..\\weekly_python_exercise\\exercise_03_loglist\\.venv\\Lib\\site-packages\\pip\\_vendor\\distlib\n",
      "..\\weekly_python_exercise\\exercise_03_loglist\\.venv\\Lib\\site-packages\\pip\\_vendor\\distlib\\_backport\n",
      "..\\weekly_python_exercise\\exercise_03_loglist\\.venv\\Lib\\site-packages\\pip\\_vendor\\html5lib\n",
      "..\\weekly_python_exercise\\exercise_03_loglist\\.venv\\Lib\\site-packages\\pip\\_vendor\\html5lib\\filters\n",
      "..\\weekly_python_exercise\\exercise_03_loglist\\.venv\\Lib\\site-packages\\pip\\_vendor\\html5lib\\treeadapters\n",
      "..\\weekly_python_exercise\\exercise_03_loglist\\.venv\\Lib\\site-packages\\pip\\_vendor\\html5lib\\treebuilders\n",
      "..\\weekly_python_exercise\\exercise_03_loglist\\.venv\\Lib\\site-packages\\pip\\_vendor\\html5lib\\treewalkers\n",
      "..\\weekly_python_exercise\\exercise_03_loglist\\.venv\\Lib\\site-packages\\pip\\_vendor\\html5lib\\_trie\n",
      "..\\weekly_python_exercise\\exercise_03_loglist\\.venv\\Lib\\site-packages\\pip\\_vendor\\idna\n",
      "..\\weekly_python_exercise\\exercise_03_loglist\\.venv\\Lib\\site-packages\\pip\\_vendor\\lockfile\n",
      "..\\weekly_python_exercise\\exercise_03_loglist\\.venv\\Lib\\site-packages\\pip\\_vendor\\msgpack\n",
      "..\\weekly_python_exercise\\exercise_03_loglist\\.venv\\Lib\\site-packages\\pip\\_vendor\\packaging\n",
      "..\\weekly_python_exercise\\exercise_03_loglist\\.venv\\Lib\\site-packages\\pip\\_vendor\\pkg_resources\n",
      "..\\weekly_python_exercise\\exercise_03_loglist\\.venv\\Lib\\site-packages\\pip\\_vendor\\progress\n",
      "..\\weekly_python_exercise\\exercise_03_loglist\\.venv\\Lib\\site-packages\\pip\\_vendor\\pytoml\n",
      "..\\weekly_python_exercise\\exercise_03_loglist\\.venv\\Lib\\site-packages\\pip\\_vendor\\requests\n",
      "..\\weekly_python_exercise\\exercise_03_loglist\\.venv\\Lib\\site-packages\\pip\\_vendor\\urllib3\n",
      "..\\weekly_python_exercise\\exercise_03_loglist\\.venv\\Lib\\site-packages\\pip\\_vendor\\urllib3\\contrib\n",
      "..\\weekly_python_exercise\\exercise_03_loglist\\.venv\\Lib\\site-packages\\pip\\_vendor\\urllib3\\contrib\\_securetransport\n",
      "..\\weekly_python_exercise\\exercise_03_loglist\\.venv\\Lib\\site-packages\\pip\\_vendor\\urllib3\\packages\n",
      "..\\weekly_python_exercise\\exercise_03_loglist\\.venv\\Lib\\site-packages\\pip\\_vendor\\urllib3\\packages\\backports\n",
      "..\\weekly_python_exercise\\exercise_03_loglist\\.venv\\Lib\\site-packages\\pip\\_vendor\\urllib3\\packages\\ssl_match_hostname\n",
      "..\\weekly_python_exercise\\exercise_03_loglist\\.venv\\Lib\\site-packages\\pip\\_vendor\\urllib3\\util\n",
      "..\\weekly_python_exercise\\exercise_03_loglist\\.venv\\Lib\\site-packages\\pip\\_vendor\\webencodings\n",
      "..\\weekly_python_exercise\\exercise_03_loglist\\.venv\\Lib\\site-packages\\pip-10.0.1.dist-info\n",
      "..\\weekly_python_exercise\\exercise_03_loglist\\.venv\\Lib\\site-packages\\pkg_resources\n",
      "..\\weekly_python_exercise\\exercise_03_loglist\\.venv\\Lib\\site-packages\\pkg_resources\\extern\n",
      "..\\weekly_python_exercise\\exercise_03_loglist\\.venv\\Lib\\site-packages\\pkg_resources\\_vendor\n",
      "..\\weekly_python_exercise\\exercise_03_loglist\\.venv\\Lib\\site-packages\\pkg_resources\\_vendor\\packaging\n",
      "..\\weekly_python_exercise\\exercise_03_loglist\\.venv\\Lib\\site-packages\\setuptools\n",
      "..\\weekly_python_exercise\\exercise_03_loglist\\.venv\\Lib\\site-packages\\setuptools\\command\n",
      "..\\weekly_python_exercise\\exercise_03_loglist\\.venv\\Lib\\site-packages\\setuptools\\extern\n",
      "..\\weekly_python_exercise\\exercise_03_loglist\\.venv\\Lib\\site-packages\\setuptools\\_vendor\n",
      "..\\weekly_python_exercise\\exercise_03_loglist\\.venv\\Lib\\site-packages\\setuptools\\_vendor\\packaging\n",
      "..\\weekly_python_exercise\\exercise_03_loglist\\.venv\\Lib\\site-packages\\setuptools-39.1.0.dist-info\n",
      "..\\weekly_python_exercise\\exercise_03_loglist\\.venv\\Lib\\site-packages\\wheel\n",
      "..\\weekly_python_exercise\\exercise_03_loglist\\.venv\\Lib\\site-packages\\wheel\\signatures\n",
      "..\\weekly_python_exercise\\exercise_03_loglist\\.venv\\Lib\\site-packages\\wheel\\tool\n",
      "..\\weekly_python_exercise\\exercise_03_loglist\\.venv\\Lib\\site-packages\\wheel-0.31.1.dist-info\n",
      "..\\weekly_python_exercise\\exercise_03_loglist\\.venv\\Scripts\n",
      "..\\weekly_python_exercise\\exercise_03_loglist\\.venv\\tcl\n",
      "..\\weekly_python_exercise\\exercise_03_loglist\\.venv\\tcl\\tcl8.5\n",
      "..\\weekly_python_exercise\\exercise_03_loglist\\.venv\\tcl\\tcl8.5\\encoding\n",
      "..\\weekly_python_exercise\\exercise_03_loglist\\.venv\\tcl\\tcl8.5\\http1.0\n",
      "..\\weekly_python_exercise\\exercise_03_loglist\\.venv\\tcl\\tcl8.5\\msgs\n",
      "..\\weekly_python_exercise\\exercise_03_loglist\\.venv\\tcl\\tcl8.5\\opt0.4\n",
      "..\\weekly_python_exercise\\exercise_03_loglist\\.venv\\tcl\\tcl8.5\\tzdata\n",
      "..\\weekly_python_exercise\\exercise_03_loglist\\.venv\\tcl\\tcl8.5\\tzdata\\Africa\n",
      "..\\weekly_python_exercise\\exercise_03_loglist\\.venv\\tcl\\tcl8.5\\tzdata\\America\n",
      "..\\weekly_python_exercise\\exercise_03_loglist\\.venv\\tcl\\tcl8.5\\tzdata\\America\\Argentina\n",
      "..\\weekly_python_exercise\\exercise_03_loglist\\.venv\\tcl\\tcl8.5\\tzdata\\America\\Indiana\n",
      "..\\weekly_python_exercise\\exercise_03_loglist\\.venv\\tcl\\tcl8.5\\tzdata\\America\\Kentucky\n",
      "..\\weekly_python_exercise\\exercise_03_loglist\\.venv\\tcl\\tcl8.5\\tzdata\\America\\North_Dakota\n",
      "..\\weekly_python_exercise\\exercise_03_loglist\\.venv\\tcl\\tcl8.5\\tzdata\\Antarctica\n",
      "..\\weekly_python_exercise\\exercise_03_loglist\\.venv\\tcl\\tcl8.5\\tzdata\\Arctic\n",
      "..\\weekly_python_exercise\\exercise_03_loglist\\.venv\\tcl\\tcl8.5\\tzdata\\Asia\n",
      "..\\weekly_python_exercise\\exercise_03_loglist\\.venv\\tcl\\tcl8.5\\tzdata\\Atlantic\n",
      "..\\weekly_python_exercise\\exercise_03_loglist\\.venv\\tcl\\tcl8.5\\tzdata\\Australia\n",
      "..\\weekly_python_exercise\\exercise_03_loglist\\.venv\\tcl\\tcl8.5\\tzdata\\Brazil\n",
      "..\\weekly_python_exercise\\exercise_03_loglist\\.venv\\tcl\\tcl8.5\\tzdata\\Canada\n",
      "..\\weekly_python_exercise\\exercise_03_loglist\\.venv\\tcl\\tcl8.5\\tzdata\\Chile\n",
      "..\\weekly_python_exercise\\exercise_03_loglist\\.venv\\tcl\\tcl8.5\\tzdata\\Etc\n",
      "..\\weekly_python_exercise\\exercise_03_loglist\\.venv\\tcl\\tcl8.5\\tzdata\\Europe\n",
      "..\\weekly_python_exercise\\exercise_03_loglist\\.venv\\tcl\\tcl8.5\\tzdata\\Indian\n",
      "..\\weekly_python_exercise\\exercise_03_loglist\\.venv\\tcl\\tcl8.5\\tzdata\\Mexico\n",
      "..\\weekly_python_exercise\\exercise_03_loglist\\.venv\\tcl\\tcl8.5\\tzdata\\Pacific\n",
      "..\\weekly_python_exercise\\exercise_03_loglist\\.venv\\tcl\\tcl8.5\\tzdata\\SystemV\n",
      "..\\weekly_python_exercise\\exercise_03_loglist\\.venv\\tcl\\tcl8.5\\tzdata\\US\n",
      "..\\weekly_python_exercise\\exercise_03_loglist\\.venv\\tcl\\tk8.5\n",
      "..\\weekly_python_exercise\\exercise_03_loglist\\.venv\\tcl\\tk8.5\\demos\n",
      "..\\weekly_python_exercise\\exercise_03_loglist\\.venv\\tcl\\tk8.5\\demos\\images\n",
      "..\\weekly_python_exercise\\exercise_03_loglist\\.venv\\tcl\\tk8.5\\images\n",
      "..\\weekly_python_exercise\\exercise_03_loglist\\.venv\\tcl\\tk8.5\\msgs\n",
      "..\\weekly_python_exercise\\exercise_03_loglist\\.venv\\tcl\\tk8.5\\ttk\n",
      "..\\weekly_python_exercise\\exercise_04_loglistclass\n",
      "..\\weekly_python_exercise\\exercise_04_loglistclass\\.idea\n",
      "..\\weekly_python_exercise\\exercise_04_loglistclass\\.pytest_cache\n",
      "..\\weekly_python_exercise\\exercise_04_loglistclass\\.pytest_cache\\v\n",
      "..\\weekly_python_exercise\\exercise_04_loglistclass\\.pytest_cache\\v\\cache\n",
      "..\\weekly_python_exercise\\exercise_05_big_cties\n",
      "..\\weekly_python_exercise\\exercise_05_big_cties\\.idea\n",
      "..\\weekly_python_exercise\\exercise_05_big_cties\\.pytest_cache\n",
      "..\\weekly_python_exercise\\exercise_05_big_cties\\.pytest_cache\\v\n",
      "..\\weekly_python_exercise\\exercise_05_big_cties\\.pytest_cache\\v\\cache\n",
      "..\\weekly_python_exercise\\exercise_06_hoby_counter\n",
      "..\\weekly_python_exercise\\exercise_06_hoby_counter\\.idea\n",
      "..\\weekly_python_exercise\\exercise_06_hoby_counter\\.pytest_cache\n",
      "..\\weekly_python_exercise\\exercise_06_hoby_counter\\.pytest_cache\\v\n",
      "..\\weekly_python_exercise\\exercise_06_hoby_counter\\.pytest_cache\\v\\cache\n",
      "..\\weekly_python_exercise\\exercise_07_apply_to_file\n",
      "..\\weekly_python_exercise\\exercise_07_apply_to_file\\.idea\n"
     ]
    }
   ],
   "source": [
    "for root, dirs, files in  os.walk('..'):\n",
    "    print root\n",
    "    #print(\"root: {0}, dirs: {1}, files:{2}\".format(root, dirs, files))"
   ]
  },
  {
   "cell_type": "code",
   "execution_count": 33,
   "metadata": {},
   "outputs": [
    {
     "name": "stdout",
     "output_type": "stream",
     "text": [
      ".gitignore\n",
      "notebook1-checkpoint.ipynb\n",
      "notebook1.ipynb\n",
      "README.md\n"
     ]
    }
   ],
   "source": [
    "for f in os.listdir('.'):\n",
    "    if os.path.isfile(f): #join('.',f):\n",
    "        print f"
   ]
  },
  {
   "cell_type": "code",
   "execution_count": null,
   "metadata": {},
   "outputs": [],
   "source": []
  },
  {
   "cell_type": "code",
   "execution_count": null,
   "metadata": {},
   "outputs": [],
   "source": []
  },
  {
   "cell_type": "code",
   "execution_count": null,
   "metadata": {},
   "outputs": [],
   "source": []
  },
  {
   "cell_type": "code",
   "execution_count": null,
   "metadata": {},
   "outputs": [],
   "source": []
  },
  {
   "cell_type": "code",
   "execution_count": null,
   "metadata": {},
   "outputs": [],
   "source": []
  },
  {
   "cell_type": "code",
   "execution_count": null,
   "metadata": {},
   "outputs": [],
   "source": []
  },
  {
   "cell_type": "code",
   "execution_count": null,
   "metadata": {},
   "outputs": [],
   "source": []
  },
  {
   "cell_type": "code",
   "execution_count": null,
   "metadata": {},
   "outputs": [],
   "source": []
  },
  {
   "cell_type": "code",
   "execution_count": null,
   "metadata": {},
   "outputs": [],
   "source": []
  },
  {
   "cell_type": "code",
   "execution_count": null,
   "metadata": {},
   "outputs": [],
   "source": []
  },
  {
   "cell_type": "code",
   "execution_count": 22,
   "metadata": {},
   "outputs": [
    {
     "ename": "TypeError",
     "evalue": "'generator' object has no attribute '__getitem__'",
     "output_type": "error",
     "traceback": [
      "\u001b[1;31m\u001b[0m",
      "\u001b[1;31mTypeError\u001b[0mTraceback (most recent call last)",
      "\u001b[1;32m<ipython-input-22-c0a2d81b9f26>\u001b[0m in \u001b[0;36m<module>\u001b[1;34m()\u001b[0m\n\u001b[1;32m----> 1\u001b[1;33m \u001b[0moutput\u001b[0m\u001b[1;33m[\u001b[0m\u001b[1;36m0\u001b[0m\u001b[1;33m]\u001b[0m\u001b[1;33m\u001b[0m\u001b[0m\n\u001b[0m",
      "\u001b[1;31mTypeError\u001b[0m: 'generator' object has no attribute '__getitem__'"
     ]
    }
   ],
   "source": [
    "output[0]"
   ]
  },
  {
   "cell_type": "code",
   "execution_count": null,
   "metadata": {},
   "outputs": [],
   "source": [
    "\n"
   ]
  },
  {
   "cell_type": "code",
   "execution_count": null,
   "metadata": {},
   "outputs": [],
   "source": []
  },
  {
   "cell_type": "code",
   "execution_count": null,
   "metadata": {},
   "outputs": [],
   "source": []
  },
  {
   "cell_type": "code",
   "execution_count": null,
   "metadata": {},
   "outputs": [],
   "source": []
  },
  {
   "cell_type": "code",
   "execution_count": null,
   "metadata": {},
   "outputs": [],
   "source": []
  },
  {
   "cell_type": "code",
   "execution_count": null,
   "metadata": {},
   "outputs": [],
   "source": []
  },
  {
   "cell_type": "code",
   "execution_count": null,
   "metadata": {},
   "outputs": [],
   "source": []
  },
  {
   "cell_type": "code",
   "execution_count": null,
   "metadata": {},
   "outputs": [],
   "source": []
  },
  {
   "cell_type": "code",
   "execution_count": null,
   "metadata": {},
   "outputs": [],
   "source": []
  },
  {
   "cell_type": "code",
   "execution_count": null,
   "metadata": {},
   "outputs": [],
   "source": []
  },
  {
   "cell_type": "code",
   "execution_count": null,
   "metadata": {},
   "outputs": [],
   "source": []
  },
  {
   "cell_type": "code",
   "execution_count": null,
   "metadata": {},
   "outputs": [],
   "source": []
  },
  {
   "cell_type": "code",
   "execution_count": null,
   "metadata": {},
   "outputs": [],
   "source": []
  },
  {
   "cell_type": "code",
   "execution_count": null,
   "metadata": {},
   "outputs": [],
   "source": []
  },
  {
   "cell_type": "code",
   "execution_count": null,
   "metadata": {},
   "outputs": [],
   "source": []
  },
  {
   "cell_type": "code",
   "execution_count": null,
   "metadata": {},
   "outputs": [],
   "source": []
  },
  {
   "cell_type": "code",
   "execution_count": null,
   "metadata": {},
   "outputs": [],
   "source": []
  },
  {
   "cell_type": "code",
   "execution_count": null,
   "metadata": {},
   "outputs": [],
   "source": []
  },
  {
   "cell_type": "code",
   "execution_count": null,
   "metadata": {},
   "outputs": [],
   "source": []
  },
  {
   "cell_type": "code",
   "execution_count": null,
   "metadata": {},
   "outputs": [],
   "source": []
  },
  {
   "cell_type": "code",
   "execution_count": null,
   "metadata": {},
   "outputs": [],
   "source": []
  },
  {
   "cell_type": "code",
   "execution_count": null,
   "metadata": {},
   "outputs": [],
   "source": []
  },
  {
   "cell_type": "code",
   "execution_count": null,
   "metadata": {},
   "outputs": [],
   "source": []
  },
  {
   "cell_type": "code",
   "execution_count": null,
   "metadata": {},
   "outputs": [],
   "source": []
  },
  {
   "cell_type": "code",
   "execution_count": null,
   "metadata": {},
   "outputs": [],
   "source": []
  },
  {
   "cell_type": "code",
   "execution_count": null,
   "metadata": {},
   "outputs": [],
   "source": []
  },
  {
   "cell_type": "code",
   "execution_count": null,
   "metadata": {},
   "outputs": [],
   "source": []
  },
  {
   "cell_type": "code",
   "execution_count": null,
   "metadata": {},
   "outputs": [],
   "source": []
  },
  {
   "cell_type": "code",
   "execution_count": null,
   "metadata": {},
   "outputs": [],
   "source": []
  },
  {
   "cell_type": "code",
   "execution_count": null,
   "metadata": {},
   "outputs": [],
   "source": []
  },
  {
   "cell_type": "code",
   "execution_count": null,
   "metadata": {},
   "outputs": [],
   "source": []
  },
  {
   "cell_type": "code",
   "execution_count": null,
   "metadata": {},
   "outputs": [],
   "source": []
  },
  {
   "cell_type": "code",
   "execution_count": null,
   "metadata": {},
   "outputs": [],
   "source": []
  },
  {
   "cell_type": "code",
   "execution_count": null,
   "metadata": {},
   "outputs": [],
   "source": []
  },
  {
   "cell_type": "code",
   "execution_count": null,
   "metadata": {},
   "outputs": [],
   "source": []
  },
  {
   "cell_type": "code",
   "execution_count": null,
   "metadata": {},
   "outputs": [],
   "source": []
  },
  {
   "cell_type": "code",
   "execution_count": null,
   "metadata": {},
   "outputs": [],
   "source": []
  },
  {
   "cell_type": "code",
   "execution_count": null,
   "metadata": {},
   "outputs": [],
   "source": []
  },
  {
   "cell_type": "code",
   "execution_count": null,
   "metadata": {},
   "outputs": [],
   "source": []
  }
 ],
 "metadata": {
  "kernelspec": {
   "display_name": "Python 2",
   "language": "python",
   "name": "python2"
  },
  "language_info": {
   "codemirror_mode": {
    "name": "ipython",
    "version": 2
   },
   "file_extension": ".py",
   "mimetype": "text/x-python",
   "name": "python",
   "nbconvert_exporter": "python",
   "pygments_lexer": "ipython2",
   "version": "2.7.15"
  }
 },
 "nbformat": 4,
 "nbformat_minor": 2
}
